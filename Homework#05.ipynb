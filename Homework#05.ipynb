{
 "cells": [
  {
   "cell_type": "markdown",
   "id": "c89359b8",
   "metadata": {},
   "source": [
    "### 2020136063 백유솔 Homework#5\n",
    "***"
   ]
  },
  {
   "cell_type": "markdown",
   "id": "f221c1e5",
   "metadata": {},
   "source": [
    "### 1.   \n",
    "- 공통점\n",
    "    - 사용자가 지정한 용도에 맞도록 구성한 객체 멤버들을 캡슐화 시킨 후에 사용한다.\n",
    "- 차이점\n",
    "    1. 클래스:\n",
    "       - 사용자가 직접 객체를 선언하고 객체 멤버를 구성할 수 있다.\n",
    "       - 다른 객체에서 해당 클래스의 내부 멤버를 세부용도에 맞게 변경할 수 있다. \n",
    "    2. 모듈\n",
    "       - 어느 개인이나 단체에 의해 이미 완성되어 있는 것을 가져온다.\n",
    "       - 클래스와 달리 상속을 통한 인스턴스화, 인터페이스 구현이 불가능하다.\n",
    "       - 다른 객체에서 해당 모듈의 내부 멤버를 변경하여 사용하지 못한다.\n",
    "***    "
   ]
  },
  {
   "cell_type": "markdown",
   "id": "41035ba6",
   "metadata": {},
   "source": [
    "### 2.\n",
    "- 다형성은 어떤 형태가 다른 형태로 발생하는 조건을 의미한다. 단일 유형의 연산자, 개체 등을 다른 조건이나 시나리오에서 다른 형태로 사용하는 것이다. 이처럼 동일 대상의 사용의 차이를 다형성이라 한다.\n"
   ]
  },
  {
   "cell_type": "code",
   "execution_count": 5,
   "id": "1434562d",
   "metadata": {},
   "outputs": [
    {
     "name": "stdout",
     "output_type": "stream",
     "text": [
      "성명: Ali\n",
      "나이: 27\n",
      "수준: 3\n",
      "성명: Brian\n",
      "나이: 49\n",
      "수준: 1\n"
     ]
    }
   ],
   "source": [
    "class staff1:\n",
    "    def __init__(self, name, age, grade):\n",
    "        self.name=name\n",
    "        self.age=age\n",
    "        self.grade=grade\n",
    "    def info(self):\n",
    "        print(f\"성명: {self.name}\")\n",
    "        print(f\"나이: {self.age}\")\n",
    "        print(f\"수준: {self.grade}\")     \n",
    "\n",
    "class staff2:\n",
    "    def __init__(self, name, age, grade):\n",
    "        self.name=name\n",
    "        self.age=age\n",
    "        self.grade=grade\n",
    "    def info(self):\n",
    "        print(f\"성명: {self.name}\")\n",
    "        print(f\"나이: {self.age}\")\n",
    "        print(f\"수준: {self.grade}\") \n",
    "\n",
    "x=staff1(\"Ali\", 27, 3)\n",
    "y=staff2(\"Brian\", 49, 1)\n",
    "\n",
    "for i in (x, y):\n",
    "    i.info()"
   ]
  },
  {
   "cell_type": "markdown",
   "id": "483807cd",
   "metadata": {},
   "source": [
    "***\n",
    "### 3."
   ]
  },
  {
   "cell_type": "code",
   "execution_count": 6,
   "id": "32f5007f",
   "metadata": {},
   "outputs": [
    {
     "name": "stdout",
     "output_type": "stream",
     "text": [
      "[Count(step: 1)] 10\n",
      "[Count(step: 2)] 10\n",
      "[Count(step: 1)] 11\n",
      "[Count(step: 2)] 12\n",
      "[Count(step: 1)] 12\n",
      "[Count(step: 2)] 14\n",
      "[Count(step: 1)] 17\n",
      "[Count(step: 2)] 9\n",
      "True\n",
      "False\n",
      "False\n",
      "True\n",
      "True\n",
      "False\n"
     ]
    }
   ],
   "source": [
    "class Counter:\n",
    "    def __init__(self, count, step = 1):\n",
    "        self.count = count\n",
    "        self.step = step\n",
    "        \n",
    "    def __str__(self):\n",
    "        return \"[Count(step: {})] {}\".format(self.step, self.count)\n",
    "\n",
    "    def incr(self):\n",
    "        self.count += self.step\n",
    "\n",
    "    def __call__(self):\n",
    "        self.incr()\n",
    "\n",
    "    def __add__(self, other):\n",
    "        self.count += other\n",
    "        return self\n",
    "    \n",
    "    def __sub__(self, other):\n",
    "        self.count -= other\n",
    "        return self\n",
    "\n",
    "    def __gt__(self, other):\n",
    "        return self.count > other\n",
    "    \n",
    "    def __eq__(self, other):\n",
    "        return self.count == other\n",
    "    \n",
    "    def __lt__(self, other):\n",
    "        return self.count < other \n",
    "\n",
    "a = Counter(10)\n",
    "b = Counter(10, 2)\n",
    "print(a)\n",
    "print(b)\n",
    "\n",
    "a.incr()\n",
    "b.incr()\n",
    "print(a)\n",
    "print(b)\n",
    "\n",
    "a()\n",
    "b()\n",
    "print(a)\n",
    "print(b)\n",
    "\n",
    "a = a + 5\n",
    "b = b - 5\n",
    "print(a)\n",
    "print(b)\n",
    "\n",
    "print(a > 10)\n",
    "print(b > 10)\n",
    "print(a < 10)\n",
    "print(b < 10)\n",
    "print(a == 17)\n",
    "print(b != 9)"
   ]
  },
  {
   "cell_type": "markdown",
   "id": "86e9e336",
   "metadata": {},
   "source": [
    "### 4."
   ]
  },
  {
   "cell_type": "code",
   "execution_count": 7,
   "id": "65f696eb",
   "metadata": {},
   "outputs": [
    {
     "name": "stdout",
     "output_type": "stream",
     "text": [
      "MySet: {1 ,2 ,3}\n",
      "MySet: {2 ,3 ,4 ,5 ,6 ,7 ,8 ,9}\n"
     ]
    }
   ],
   "source": [
    "class MySet(list):\n",
    "    def __init__(self, l):\n",
    "        for e in l:\n",
    "            self.append(e)\n",
    "        MySet.eliminate_duplicate(self)\n",
    "    \n",
    "    def __str__(self):\n",
    "        result = \"MySet: {\"\n",
    "        for e in self:\n",
    "            result = result + str(e) + \" ,\"\n",
    "        result = result[0:len(result)-2] + \"}\"\n",
    "        return result\n",
    "\n",
    "    @staticmethod    \n",
    "    def eliminate_duplicate(l):\n",
    "        s = []\n",
    "        for e in l:\n",
    "            if e not in s:\n",
    "                s.append(e)\n",
    "        l[:] = []\n",
    "        for e in s:\n",
    "            l.append(e)\n",
    "\n",
    "    \n",
    "if __name__ == \"__main__\":\n",
    "    s = MySet([1, 2, 2, 3])\n",
    "    print(s)\n",
    "    t = MySet([2, 3, 4, 5, 6, 7, 8, 8, 8, 8, 8, 9])\n",
    "    print(t)"
   ]
  },
  {
   "cell_type": "markdown",
   "id": "f4f7ef80",
   "metadata": {},
   "source": [
    "- __ __init__ __(self, l)\n",
    "    - __ __init__ __()은 생성자로 클래스 객체가 생성될 때, 호출되는 메소드이다.\n",
    "    - 인자로 리스트를 받아 self 객체에 넣어 저장한다.그리고 이를 Myset의 eliminate_duplicate로 self 객체를 전달한다.\n",
    "    - self 객체는 list를 서브클래싱한 클래스의 객체이다.\n",
    "- __ __str__ __(self)\n",
    "    - __ __str__ __()은 self 객체에서 요소들을 result 객체에 문자로 담아 반환해준다. \n",
    "- elimicate_duplicate(l)\n",
    "    - 인자로 받은 리스트를 중복을 제외한 요소들을 빈 리스트에 저장한다. 그리고 인자로 받은 리스트를 전부 지우고 저장한 요소들을 다시 넣어준다. \n",
    "***    "
   ]
  },
  {
   "cell_type": "markdown",
   "id": "7283b759",
   "metadata": {},
   "source": [
    "### 5."
   ]
  },
  {
   "cell_type": "code",
   "execution_count": 10,
   "id": "28b57861",
   "metadata": {},
   "outputs": [
    {
     "name": "stdout",
     "output_type": "stream",
     "text": [
      "MySet: {1 ,2 ,3}\n",
      "MySet: {2 ,3 ,4 ,5 ,6 ,7 ,8 ,9}\n",
      "MySet: {1 ,2 ,3 ,4 ,5 ,6 ,7 ,8 ,9}\n",
      "MySet: {2 ,3}\n",
      "MySet: {1 ,2}\n"
     ]
    }
   ],
   "source": [
    "class MySet(list):\n",
    "    def __init__(self, l):\n",
    "        for e in l:\n",
    "            self.append(e)\n",
    "        MySet.eliminate_duplicate(self)\n",
    "    \n",
    "    def __str__(self):\n",
    "        result = \"MySet: {\"\n",
    "        for e in self:\n",
    "            result = result + str(e) + \" ,\"\n",
    "        result = result[0:len(result)-2] + \"}\"\n",
    "        return result\n",
    "\n",
    "    def __or__(self, other): \n",
    "        s = MySet([])\n",
    "        for e in (self + other):\n",
    "            if e not in s:\n",
    "                s.append(e)\n",
    "        return s\n",
    "    \n",
    "    def __and__(self, other): \n",
    "        s = MySet([])\n",
    "        for a in self:\n",
    "            for b in other:\n",
    "                if a == b: \n",
    "                    s.append(b)\n",
    "        return s\n",
    "  \n",
    "    def __sub__(self, other): \n",
    "        s = MySet([])\n",
    "        for a in self:\n",
    "            s.append(a)\n",
    "            for b in other: \n",
    "                if a == b:\n",
    "                    s.remove(b)\n",
    "        return s\n",
    "\n",
    "    @staticmethod    \n",
    "    def eliminate_duplicate(l):\n",
    "        s = []\n",
    "        for e in l:\n",
    "            if e not in s:\n",
    "                s.append(e)\n",
    "        l[:] = []\n",
    "        for e in s:\n",
    "            l.append(e)\n",
    "\n",
    "    \n",
    "if __name__ == \"__main__\":\n",
    "    s = MySet([1, 2, 2, 3])\n",
    "    print(s)\n",
    "    t = MySet([2, 3, 4, 5, 6, 7, 8, 8, 8, 8, 8, 9])\n",
    "    print(t)\n",
    "   \n",
    "    u = s | t\n",
    "    print(u)\n",
    "\n",
    "    u = s & t\n",
    "    print(u)\n",
    "    \n",
    "    s = MySet([1, 2, 3])\n",
    "    t = MySet([3, 4, 5])\n",
    "    u = s - t\n",
    "    print(u)"
   ]
  },
  {
   "cell_type": "markdown",
   "id": "07598cd8",
   "metadata": {},
   "source": [
    "\n",
    "1. 합집합\n",
    "    - 두 리스트를 합친 리스트에서 Myset 클래스를 호출한 리스트를 만들어 겹치는 것을 뺀 요소들을 넣어준다. \n",
    "2. 교집합\n",
    "    - 한 리스트를 for문으로 돌린 다음 다른 리스트를 for문으로 돌렸을 때 요소가 같으면 Myset 클래스를 호출한 리스트를 만들어 넣어준다.\n",
    "3. 차집합\n",
    "    - 한 리스트를 일단 빈 리스트에 저장해두고 다른 리스트에 이와 같은 것이 있다면 지워준다."
   ]
  },
  {
   "cell_type": "markdown",
   "id": "8fecf1e4",
   "metadata": {},
   "source": [
    "### 6."
   ]
  },
  {
   "cell_type": "code",
   "execution_count": 9,
   "id": "def12605",
   "metadata": {},
   "outputs": [
    {
     "name": "stdout",
     "output_type": "stream",
     "text": [
      "6\n",
      "True\n",
      "True\n"
     ]
    }
   ],
   "source": [
    "s = MySet([1, 2, 3, 4, 5, 6]) \n",
    "print(len(s))\n",
    "print(bool(s))\n",
    "print(1 in s)"
   ]
  },
  {
   "cell_type": "markdown",
   "id": "a0ae34ba",
   "metadata": {},
   "source": [
    "- Myset 클래스의 매개변수인 내장 자료형 list를 상속 받았기 때문에 굳이 따로 정의하지 않아도 그의 객체는 부모 클래스에서 함수나 키워드를 호출해 사용할 수 있다.\n",
    "***"
   ]
  },
  {
   "cell_type": "markdown",
   "id": "f7ab7a6d",
   "metadata": {},
   "source": [
    "#### [Incremental Project 문제]\n",
    "1. Assignment3 & Assignment4의 Incremental Project 코드를 다시 확장/변형하여 다음과 같은 조견을 만족하도록 구현하시오."
   ]
  },
  {
   "cell_type": "code",
   "execution_count": 16,
   "id": "d267479f",
   "metadata": {},
   "outputs": [
    {
     "name": "stdout",
     "output_type": "stream",
     "text": [
      "['http://www.cnn.com', 'http://www.times.com', 'https://www.amazon.com']\n",
      "['http://www.cnn.com', 'http://www.times.com', 'https://www.amazon.com', 'https://github.com']\n",
      "['http://www.times.com', 'https://www.amazon.com', 'https://github.com']\n",
      "http://www.times.com\n",
      "https://www.amazon.com\n",
      "https://github.com\n",
      "{'SectionsSEARCHSkip': 1, 'contentSkip': 1, 'site': 2, 'indexUSInternationalCanadaEspañol中文Today’s': 1, 'PaperWorldUSPoliticsNYBusinessOpinionTechScienceHealthSportsArtsBooksStyleFoodTravelMagazineT': 1, 'MagazineReal': 1, 'EstateVideoBreakingInflation': 1, 'Rising': 1, 'Fastest': 1, 'Pace': 1, 'Nearly': 1, '40': 1, 'Years': 2, 'New': 21, 'Data': 1, 'ShowsThe': 1, 'Consumer': 1, 'Price': 1, 'Index': 1, 'climbed': 1, '68': 1, 'percent': 1, 'November': 1, 'year': 2, 'strongest': 1, 'inflationary': 1, 'burst': 5, 'generationFed': 1, 'officials': 1, 'increasingly': 1, 'concerned': 1, 'inflation': 1, 'signs': 1, 'broadening': 1, 'areas': 1, 'pandemic': 1, 'Here’s': 2, 'latestRising': 1, 'Prices': 1, 'Continue': 1, 'Complicate': 1, 'Biden’s': 1, 'AgendaInflation': 1, 'threatening': 1, 'expansive': 1, 'economic': 2, 'climate': 2, 'legislation': 1, 'President': 3, 'Biden': 2, 'push': 1, 'Congress': 2, 'yearThe': 1, 'Morning': 1, 'Why': 1, 'Americans': 2, 'Feel': 1, 'Grouchy': 1, 'About': 1, 'EconomyCoronavirus': 1, 'Updates': 2, 'Germany': 1, 'Plans': 1, 'Vaccine': 1, 'Mandate': 1, 'All': 1, 'Medical': 1, 'StaffOmicron': 1, 'Brings': 1, 'Round': 1, 'Foreboding': 1, 'British': 1, 'BusinessesAdvertisementContinue': 1, 'reading': 5, 'main': 5, 'story': 2, 'Tracking': 3, 'Coronavirus': 1, '›': 6, 'United': 3, 'States\\xa0›': 2, 'StatesAvg': 1, 'Dec': 1, '14': 2, 'day': 1, 'change': 1, 'New\\xa0cases': 1, '119788': 1, '30': 1, 'New\\xa0deaths': 1, '1281': 1, '18': 1, 'US': 3, 'hot': 1, 'spots': 1, 'Where': 2, 'Omicron': 4, 'detected': 2, 'Other': 2, 'trackers': 2, 'Look': 2, 'county': 1, 'vaccinationsGlobal': 2, 'vaccinationsFranceUKMichMinnNH': 2, 'countyUS': 1, 'In': 2, 'Texas': 2, 'Battle': 1, 'Over': 2, 'What': 1, 'Can': 5, 'Be': 5, 'Taught': 1, 'Which': 1, 'Books': 2, 'ReadA': 1, 'law': 1, 'constricts': 1, 'educators': 1, 'race': 2, 'history': 1, 'A': 2, 'politician': 1, 'questioning': 1, '850': 1, 'titles': 1, 'libraries': 1, 'Teachers': 1, 'bewilderedUK': 1, 'Court': 3, 'Rules': 1, 'Julian': 1, 'Assange': 1, 'Extradited': 1, 'USThe': 1, 'WikiLeaks': 1, 'founder': 1, 'seek': 1, 'appeal': 2, 'But': 1, 'extradition': 1, 'face': 5, 'espionage': 1, 'charges': 1, 'prison': 1, 'decadesPeter': 1, 'NichollsReutersTurkey’s': 1, 'Follows': 1, 'His': 3, 'Own': 1, 'Advice': 1, 'Even': 1, 'Economy': 2, 'SlipsPresident': 1, 'Recep': 1, 'Tayyip': 1, 'Erdogan': 1, 'growing': 1, 'isolated': 1, 'clings': 1, 'plan': 1, 'endorse': 1, 'bear': 1, 'electionsAntonio': 1, 'MasielloGetty': 1, 'ImagesMexico': 1, 'Migrant': 1, 'Truck': 1, 'Crash': 1, 'Leaves': 1, 'More': 2, 'Than': 1, '50': 1, 'People': 1, 'DeadMore': 1, '100': 1, 'reported': 1, 'injured': 1, 'crash': 1, 'southern': 1, 'Chiapas': 1, 'migrants': 1, 'regularly': 1, 'cross': 1, 'Mexico': 1, 'Central': 1, 'AmericaJacob': 1, 'GarciaReutersAnalysis': 1, 'Divide': 1, 'Debt': 1, 'Limit': 1, 'Shows': 2, 'Pragmatic': 1, 'Republicans': 2, 'Are': 3, 'DwindlingFearing': 1, 'backlash': 1, 'Republican': 1, 'lawmakers': 1, 'dug': 1, 'bipartisan': 1, 'deal': 1, 'needed': 1, 'stave': 1, 'federal': 1, 'defaultFourteen': 1, 'joined': 1, 'Democrats': 1, 'clear': 1, 'major': 1, 'hurdle': 1, 'standing': 1, 'debt': 1, 'ceiling': 1, 'increaseRift': 1, 'Between': 1, 'Ron': 1, 'Wyden': 1, 'Son': 1, 'Challenge': 1, 'Taxing': 1, 'UltrarichA': 1, 'dispute': 1, 'Senate': 3, 'Finance': 1, 'Committee': 1, 'chairman': 1, 'hedge': 1, 'fund': 1, 'manager': 1, 'son': 1, 'illustrates': 1, 'fabulously': 1, 'rich': 1, 'shielded': 1, 'tax': 1, 'increasesOliver': 1, 'Contreras': 1, 'The': 16, 'York': 18, 'TimesJussie': 1, 'Smollett': 1, 'Found': 2, 'Guilty': 1, 'Reporting': 1, 'Fake': 1, 'Hate': 1, 'CrimeThe': 1, 'actor': 1, 'convicted': 1, 'filing': 1, 'false': 1, 'police': 1, 'report': 1, '2019': 1, 'claiming': 1, 'victim': 1, 'racist': 1, 'attack': 1, 'jury': 1, 'deliberated': 1, 'hoursCharles': 1, 'Rex': 1, 'ArbogastAssociated': 1, 'PressAshley': 1, 'Gilbertson': 1, 'TimesWhere': 1, 'Despairing': 1, 'Log': 1, 'On': 1, 'Learn': 1, 'Ways': 1, 'DieA': 1, 'trappings': 1, 'social': 1, 'media': 47, 'young': 1, 'audience': 1, 'explicit': 1, 'content': 1, 'suicide': 1, 'linked': 1, 'long': 1, 'lives': 1, 'cut': 1, 'short': 1, 'investigation': 1, 'foundElon': 1, 'Musk’s': 1, 'Latest': 1, 'Innovation': 1, 'Troll': 1, 'PhilanthropySome': 1, 'wealthy': 1, 'people': 1, 'money': 1, 'attempt': 1, 'burnish': 1, 'reputations': 1, 'Not': 2, 'Tesla': 1, 'CEOAlvaro': 1, 'DominguezAdvertisementContinue': 1, 'story11': 1, 'Million': 1, 'Oysters': 1, 'Harbor': 1, 'None': 1, 'You': 5, 'EatThe': 1, 'oysters': 1, 'nonstop': 1, 'water': 1, 'filters': 1, 'Hudson': 1, 'River': 1, 'project': 1, 'rehabilitate': 1, 'polluted': 1, 'waterwaysDieu': 1, 'Nalio': 1, 'Chéry': 1, 'TimesThis': 1, 'perfect': 1, 'abandoning': 1, 'pesky': 1, 'holiday': 1, 'traditions': 1, 'allModern': 1, 'Love': 2, '“I': 2, 'hold': 1, 'hands': 1, 'again”': 1, 'css': 146, '1dv1kvncss': 1, '13o7eu2css': 1, 'r3w21j': 1, 'min': 45, 'width880pxnytapp': 13, 'vi': 69, 'interactive': 32, 'r3w21jnytapp': 3, 'hybrid': 21, 'article': 42, 'liveblog': 21, 'r3w21jcss': 1, '1nu2zqwcss': 1, 'oyab1kcss': 1, '1fo5vklcss': 1, '1fo5vkl': 1, 'figurecss': 2, '8tnwuanytapp': 7, '8tnwua': 1, '8tnwuacss': 1, '1ob3p58css': 1, '1ob3p58empty': 1, 'width880pxcss': 17, '1409coy': 2, '1409coynytapp': 3, '1409coyDarkTheme': 1, '1409coyaftercss': 1, 'kil0jbcss': 1, 'nhgz65css': 1, 's2vbc4css': 2, 's2vbc4': 1, 'child': 2, 'width880pxexit': 4, 'card': 24, '1kt5fia': 2, '1x3ausn': 13, 'plast': 6, 'childcss': 3, 'h2last': 6, 'childDarkTheme': 3, 'strong': 3, 'width600px': 3, 'childnytapp': 7, '134o93n': 3, '134o93nnytapp': 3, 'width880pxDarkTheme': 1, '1li8uqpDarkTheme': 2, '1li8uqpexit': 1, '1li8uqp': 3, 'spanDarkTheme': 1, 'exit': 4, 'spancss': 1, '1s91wr4DarkTheme': 1, '1s91wr4css': 1, '18ug7mucss': 1, '53kqviDarkTheme': 1, '53kqvi': 1, '53kqviemptycss': 1, 'nac8qsbasic': 2, 'nac8qs': 2, 'basic': 4, 'nac8qsnytapp': 3, 'data': 2, 'componentrelated': 1, 'links': 1, 'block': 3, 'nac8qscss': 1, 'd361coDarkTheme': 1, 'd361coexit': 2, 'd361colast': 1, 'd361cocss': 1, 'd361co': 2, 'aDarkTheme': 1, 'acss': 1, '1gwnhr7exit': 2, 'g0grvmDarkTheme': 1, 'g0grvmcss': 1, '13ucv6wcss': 1, '13ucv6wexit': 6, '13ucv6wnytapp': 4, 'cardnytapp': 6, 'cardcss': 4, '1al9txy': 1, 'sdpd91css': 1, 'sdpd91': 2, 'path': 1, 'hoverhover': 1, 'pointerfinecss': 1, 'sdpd91hover': 2, 'pathDarkTheme': 2, 'sdpd91hoverDarkTheme': 1, 'sdpd91DarkTheme': 1, 'pathcss': 1, '3o4fegcss': 1, '7lkc4vcss': 1, '8t9h44footer': 1, '8t9h44cards': 1, '8t9h44': 1, 'width600pxcss': 1, 's4sy4wcss': 1, 's4sy4wafterDarkTheme': 1, 's4sy4wDarkTheme': 1, 's4sy4waftercss': 2, 's4sy4whoverDarkTheme': 1, 's4sy4whovercss': 1, 's4sy4wfocuscss': 1, 's4sy4wfocusafterDarkTheme': 1, 's4sy4wfocusDarkTheme': 1, 's4sy4wfocusaftercss': 1, '947ayqcss': 1, '92zeeqDarkTheme': 1, '92zeeqcss': 1, 'at4ttvcss': 1, 'at4ttv': 2, 'webkit': 1, 'scrollbarnytapp': 1, 'at4ttvnytapp': 3, 'xvm2si': 1, '1pllwgk': 1, 'width600pxDarkTheme': 2, '1pllwgkcss': 1, '1yzpe0h': 1, '1qz4scnnytapp': 4, '1qz4scn': 1, 'l9jeln': 1, 'l9jelnnytapp': 3, 'l9jelnDarkTheme': 4, 'nytapp': 4, 'l9jelncss': 1, '1ht7e0e': 1, 'width880px': 1, 'font': 5, 'facemain': 1, 'bodynytapp': 2, 'standalone': 1, 'headernytapp': 2, 'masthead': 1, 'bar': 1, 'onenytapp': 1, 'sharetoolsnytapp': 1, 'contentnytapp': 1, 'width1024pxnytapp': 1, 'burstnytapp': 1, 'interactivenytapp': 1, 'appdata': 1, 'hp': 2, 'widthtrue': 2, 'appANDROID': 1, 'app': 1, '1v78jj2DarkTheme': 1, '1v78jj2css': 1, '1v78jj2': 1, 'typecss': 1, '124pa22css': 2, '124pa22': 2, '124pa22nytapp': 3, '1hlb9i7DarkTheme': 1, '1hlb9i7css': 1, '1hlb9i7': 1, 'type': 2, '1bz1n49DarkTheme': 1, '1bz1n49': 1, '1bz1n49empty': 1, '1bz1n49beforenytapp': 3, '1bz1n49beforeDarkTheme': 1, '1bz1n49beforecss': 1, 'km5mtl': 6, 'km5mtlnytapp': 3, 'pnotis': 4, 'link': 6, 'blockdata': 2, 'expandable': 6, 'blocktrue': 6, 'km5mtldata': 1, 'blockcss': 2, 'width880pxdata': 2, 'strongDarkTheme': 2, 'km5mtlcss': 1, '11ywi14css': 1, '11ywi14exit': 6, '11ywi14nytapp': 4, '1u42eb7DarkTheme': 1, '1u42eb7css': 1, '1u42eb7': 1, '18i88b0': 1, '18i88b0nytapp': 3, '18i88b0css': 1, '18i88b0is': 1, 's307ab': 6, 's307abnytapp': 3, 's307abdata': 1, 's307abcss': 1, '1r776nxDarkTheme': 1, '1r776nxcss': 1, '1r776nx': 3, 'typebasic': 1, '1r776nxbasic': 1, 'typeexit': 1, 'imgcss': 1, 'q1hogsDarkTheme': 2, 'q1hogscss': 1, '1cl29h3css': 1, '1cl29h3afterDarkTheme': 1, '1cl29h3DarkTheme': 1, '1cl29h3aftercss': 2, '1cl29h3hoverDarkTheme': 1, '1cl29h3hovercss': 2, '1cl29h3focuscss': 1, '1cl29h3focusafterDarkTheme': 1, '1cl29h3focusDarkTheme': 1, '1cl29h3focusaftercss': 1, '1cl29h3after5': 1, 'Things': 8, 'Do': 12, 'This': 9, 'WeekendDanielle': 7, 'DowlingSeeking': 7, 'arts': 7, 'everywhere5': 1, 'everywhereNiko': 1, 'Tavernise20th': 1, 'Century': 1, 'StudiosSteven': 1, 'Spielberg': 1, 'Tony': 1, 'Kushner': 1, 'bring': 1, 'touch': 1, 'realism': 1, 'historical': 1, 'nuance': 1, 'canonical': 1, 'musical': 2, '“West': 2, 'Side': 2, 'Story”Here’s': 1, 'film': 3, 'highlights': 1, 'weekend': 1, '→5': 1, 'everywhereThe': 1, 'latest': 1, 'version': 1, 'Story”': 1, 'stars': 1, 'Rachel': 1, 'Zegler': 1, 'Ariana': 1, 'DeBose': 1, 'Ansel': 1, 'Elgort': 1, 'reaffirms': 1, 'classic’s': 1, '“indelible': 1, 'making': 1, 'feel': 1, 'bold': 1, 'surprising': 1, 'new”': 1, 'AO': 1, 'Scott': 2, 'writes': 2, 'arrives': 2, 'theaters': 2, 'nationwide': 1, 'todayRead': 2, 'review5': 3, 'everywhereCraig': 1, 'BlankenhornHBOAccording': 1, 'James': 1, 'Poniewozik': 1, '“And': 1, 'Just': 1, 'Like': 2, 'That”': 1, '“Sex': 1, 'City”': 1, 'reboot': 1, 'feels': 1, 'that’s': 1, '“a': 1, 'downer”': 1, 'takes': 1, 'risks': 1, '“in': 1, 'moments': 1, 'good”': 1, '“cringey': 1, 'fast”': 1, 'episodes': 1, 'HBO': 1, 'MaxRead': 1, 'everywhereSara': 1, 'KrulwichThe': 1, 'TimesOne': 1, 'Jesse': 1, 'Green': 1, 'gender': 1, 'flipped': 1, 'remake': 1, 'Stephen': 1, 'Sondheim’s': 1, '“Company”': 1, 'Patti': 1, 'Lupone': 1, '“brings': 1, 'precision': 1, 'comedy': 1, 'riveting': 1, 'charisma': 1, 'moment”': 1, 'Bernard': 1, 'B': 3, 'Jacobs': 1, 'TheaterRead': 1, 'everywhereGeorge': 1, 'Etheredge': 2, 'Times“I’m': 1, 'entering': 1, 'greatest': 1, 'moment': 1, 'career”': 1, 'tenor': 1, 'Rolando': 1, 'Villazón': 2, 'regained': 1, 'voice': 1, 'years': 2, 'issues': 2, 'He': 1, 'appears': 1, 'Papageno': 1, 'Mozart’s': 1, '“The': 2, 'Magic': 2, 'Flute”': 1, 'Metropolitan': 1, 'Opera': 1, 'tonightRead': 1, 'interview5': 1, 'everywhereGlen': 1, 'Wilson': 1, 'Amazon': 2, 'Original“Being': 1, 'Ricardos”': 1, 'Lucille': 1, 'Ball': 1, 'Desi': 1, 'Arnaz': 1, 'real': 1, 'life': 1, 'couple': 1, 'Lucy”': 1, '“lively': 1, 'chatty': 1, 'odd': 1, 'insistently': 1, 'depoliticized': 1, 'biopic”': 1, 'Manohla': 1, 'Dargis': 1, 'Prime': 1, 'Video': 2, 'reviewSee': 1, 'ways': 1, 'entertain': 1, 'yourselfHow': 1, 'Much': 1, 'Watching': 1, 'Time': 3, 'Have': 1, 'Weekend5': 1, 'WeekendCopy': 1, 'linkItem': 1, 'OpinionPaul': 1, 'KrugmanHow': 1, 'Is': 3, 'DoingJamelle': 1, 'BouieSo': 1, 'Lost': 1, 'Election': 1, 'We': 4, 'Had': 2, 'Nothing': 1, 'With': 3, 'ItJ': 1, 'ApplewhiteAssociated': 1, 'PressDavid': 1, 'BrooksWhat': 1, 'Say': 1, 'SuffererAdam': 1, 'GrantWe’re': 1, 'Living': 1, 'Through': 2, '‘Boring': 1, 'Apocalypse’Peter': 1, 'CoyCan': 1, 'Trust': 1, 'What’s': 1, 'Happening': 1, 'MoneyMaria': 1, 'Ressa': 1, 'Mark': 1, 'ThompsonI': 1, 'Get': 2, 'Allow': 1, 'Me': 1, 'Accept': 1, 'My': 2, 'Nobel': 2, 'PrizeIrene': 1, 'RinaldiAndrew': 1, 'PekoszWill': 1, 'Covid': 1, 'Evolve': 1, 'MilderMara': 1, 'GayDon’t': 1, 'Let': 1, '‘Treeson’': 1, 'Drive': 1, 'Out': 1, 'CityPatrick': 1, 'HealyWhat': 1, 'Still': 1, 'Hold': 2, 'Onto': 1, 'Our': 2, 'Memories': 1, 'FadeZeynep': 1, 'TufekciFor': 1, 'Elderly': 1, 'Complacency': 1, 'Could': 1, 'KillerJay': 1, 'Caspian': 1, 'KangI': 1, 'Play': 1, 'Games': 1, 'Year': 1, 'Old': 1, 'That’s': 1, 'OKKara': 1, 'SwisherWe': 1, 'Need': 1, 'Less': 1, 'Talk': 1, 'Action': 1, 'From': 4, 'TechFrank': 1, 'BruniDemocrats’': 1, 'Dangerous': 1, 'Appetite': 1, 'Eating': 1, 'Their': 1, 'OwnCorey': 1, 'RobinWhy': 1, 'Presidency': 1, 'Feels': 1, 'Such': 1, 'DisappointmentWhat': 1, 'Subscribers': 1, 'ReadingPhoto': 1, 'illustration': 1, 'Yechan': 1, 'Jung': 1, 'Photo': 1, 'Apple': 1, 'CorpsThe': 1, 'Sublime': 1, 'Spectacle': 1, 'Yoko': 1, 'Ono': 1, 'Disrupting': 1, 'BeatlesJohnny': 1, 'Milano': 1, 'TimesDistrict': 1, 'Investigates': 1, 'Claims': 1, 'Longtime': 1, 'Sexual': 1, 'Misconduct': 1, 'TeachersFox': 1, 'NewsFox': 1, 'News': 1, 'Replaces': 1, 'Christmas': 2, 'Tree': 1, 'That': 2, 'Went': 1, 'Up': 1, 'Flames': 1, 'ManhattanTrustees': 1, 'Natural': 1, 'History': 1, 'Museum': 1, 'LondonJust': 1, 'Knitwear': 1, 'Fit': 1, 'T': 1, 'RexDoug': 1, 'MillsThe': 1, 'TimesBiden': 1, 'Orders': 1, 'Federal': 1, 'Government': 1, 'Use': 1, 'Renewable': 1, 'Energy': 1, '2050AdvertisementContinue': 1, 'storyThe': 1, 'MorningWhy': 1, 'economy': 1, 'rough': 1, 'shape': 1, 'Because': 1, 'David': 1, 'Leonhardt': 1, 'writesListen': 1, '‘The': 2, 'Daily’China’s': 1, 'decision': 1, 'censor': 1, 'star': 2, 'tennis': 1, 'player': 1, 'Peng': 1, 'Shuai': 1, 'confronted': 1, 'sports': 1, 'industry': 1, 'dilemmaOpinionListen': 1, 'Argument’Is': 1, 'University': 1, 'Austin': 1, 'public': 1, 'relations': 1, 'stuntNeediest': 1, 'Cases': 1, 'Standing': 1, 'Ready': 1, 'Aftermath': 1, 'DisasterWhen': 1, 'wildfires': 1, 'hurricanes': 1, 'communities': 1, 'support': 1, 'networks': 1, 'jumped': 1, 'food': 1, 'insecureMore': 1, 'NewsOn': 1, 'Politics': 1, 'Candidate': 1, 'Running': 1, 'Anti': 1, 'Dr': 1, 'OzIn': 1, 'closely': 1, 'watched': 1, 'Pennsylvania': 1, 'Val': 1, 'Arkoosh': 1, 'doctor': 1, 'Democratic': 1, 'primary': 1, 'sees': 1, 'openings': 1, 'raise': 1, 'profileAppeals': 1, 'Rejects': 1, 'Trump’s': 2, 'Bid': 1, 'Shield': 1, 'Material': 1, 'Jan': 1, 'InquiryA': 1, 'judge': 1, 'panel': 1, 'held': 1, 'Congress’s': 1, 'oversight': 1, 'powers': 1, 'outweighed': 1, 'residual': 1, 'secrecy': 1, 'powersA': 1, '‘Black': 1, 'Box’': 1, 'Humans': 1, 'Accountable': 1, 'Climate': 1, 'ChangeA': 1, 'steel': 1, 'vault': 1, 'Australia': 1, 'create': 1, 'archive': 1, 'critical': 1, 'piecing': 1, 'missteps': 1, 'humanity': 1, 'destroyed': 1, 'changeEarth’s': 1, 'Black': 1, 'BoxEric': 1, 'Adams': 2, 'Returns': 1, 'Ghana': 2, 'Spirit': 1, 'Cleansed': 1, 'To': 1, 'List': 1, 'FullMr': 1, 'mayor': 1, 'elect': 1, 'City': 1, 'embarked': 1, 'weeklong': 1, 'spiritual': 1, 'journey': 1, 'month': 1, 'assuming': 1, 'officeCitizen': 1, 'Enforcement': 1, 'Abortion': 1, 'Law': 1, 'Violates': 1, 'Constitution': 1, 'Judge': 1, 'RulesHouse': 1, 'Approves': 1, 'Post': 1, 'Trump': 1, 'Curbs': 1, 'Presidential': 1, 'PowerLive': 1, 'Ghislaine': 1, 'Maxwell': 1, 'Trial': 1, 'ResumesDemaryius': 1, 'Thomas': 1, 'Ex': 1, 'Denver': 1, 'Bronco': 1, 'DeadAs': 1, 'Muratov': 1, 'Accepts': 1, 'Legacy': 1, 'Russian': 1, 'Predecessors': 1, 'RecedesAl': 1, 'Unser': 1, 'Sr': 1, 'Winner': 1, 'Indy': 1, '500': 1, 'Dies': 1, '82Former': 1, 'DEA': 1, 'Agent': 1, 'Sentenced': 1, '12': 1, 'Drug': 1, 'Money': 1, 'SchemeHealthy': 1, 'HabitsMike': 1, 'McQuade8': 1, 'Small': 1, 'Habits': 1, 'Make': 2, 'Life': 1, 'Little': 1, 'BetterAlex': 1, 'MertoHow': 1, 'Cultivate': 1, 'Resilience': 1, '2022Andrew': 1, 'MyersTo': 1, 'Start': 1, 'Habit': 1, 'It': 1, 'EasyGetty': 1, 'Images5': 1, 'Tips': 1, 'Getting': 1, 'HolidaysAndrew': 1, 'MyersFind': 1, 'Accountability': 1, 'BuddyAdvertisementContinue': 1, 'storyCulture': 1, 'LifestyleGeorge': 1, 'TimesA': 1, 'Tenor’s': 1, 'Met': 1, 'Career': 1, 'Seemed': 1, 'Finished': 1, 'So': 1, 'FastRolando': 1, 'onetime': 1, 'plagued': 1, 'vocal': 1, 'returning': 1, 'house': 1, 'Flute”NFL': 1, 'Week': 1, 'Predictions': 1, 'Picks': 1, 'Against': 1, 'SpreadHe': 1, 'Wants': 1, 'Loan': 1, 'Tell': 1, 'Him': 1, 'Vaccinated': 1, 'FirstBest': 1, 'Late': 1, 'Night': 1, 'Tired': 1, 'Tucker': 1, 'CarlsonBest': 1, 'Art': 1, '2021New': 1, 'Times': 2, 'CookingJohnny': 1, 'Miller': 1, 'TimesMaple': 1, 'Pecan': 1, 'Sticky': 1, 'BunsAnna': 1, 'Williams': 1, 'TimesItalian': 1, 'Rainbow': 1, 'CookiesDavid': 1, 'Malosh': 1, 'TimesAloo': 1, 'Anday': 1, 'Potatoes': 1, 'Scrambled': 1, 'EggsCraig': 1, 'Lee': 1, 'TimesGarlic': 1, 'Braised': 1, 'Short': 1, 'Ribs': 1, 'Red': 1, 'WineAndrew': 1, 'Scrivani': 1, 'TimesEveryday': 1, 'PancakesRecommendations': 1, 'WirecutterLearn': 1, '»The': 1, 'Gifts': 1, 'Wirecutter’s': 1, 'Experts': 1, 'Plan': 1, 'GiveWe’re': 1, 'picky': 1, 'bunch': 1, 'we’d': 1, 'friends': 1, 'family': 1, 'presentsHow': 1, 'Clean': 1, 'Stainless': 1, 'Steel': 1, 'PansYou': 1, 'wrong': 1, 'helpWired': 1, 'Earbuds': 1, 'Cool': 1, 'AgainHere’s': 1, 'advice': 1, 'picking': 1, 'pair': 1, 'youThe': 1, 'Best': 1, 'ProjectorsA': 1, 'great': 1, 'projector': 1, 'delivers': 1, 'crisp': 1, 'images': 1, 'turn': 1, 'ordinary': 1, 'evening': 1, 'delightful': 1, 'movie': 1, 'nightMichael': 1, 'MurtaughAdvertisementContinue': 1, 'storyPlaySpelling': 1, 'BeeHow': 1, 'lettersThe': 1, 'CrosswordGet': 1, 'clued': 1, 'wordplay': 1, 'dayLetter': 1, 'BoxedCreate': 1, 'letters': 1, 'squareTilesMatch': 1, 'visual': 1, 'elements': 1, 'chain': 1, 'goingVertexConnect': 1, 'dots': 1, 'reveal': 1, 'hidden': 1, 'pictureSite': 1, 'Information': 1, 'Navigation': 1, '2021\\xa0The': 1, 'CompanyNYTCoContact': 1, 'UsAccessibilityWork': 1, 'usAdvertiseT': 1, 'Brand': 1, 'StudioYour': 1, 'Ad': 1, 'ChoicesPrivacy': 1, 'PolicyTerms': 1, 'ServiceTerms': 1, 'SaleSite': 1, 'MapCanadaInternationalHelpSubscriptions': 1}\n"
     ]
    },
    {
     "data": {
      "text/plain": [
       "{'css': 146}"
      ]
     },
     "execution_count": 16,
     "metadata": {},
     "output_type": "execute_result"
    }
   ],
   "source": [
    "import requests\n",
    "import re\n",
    "import string\n",
    "\n",
    "class SearchEngine:\n",
    "    def __init__(self, *args):\n",
    "        self.link=[]\n",
    "        self.dictionary = {}\n",
    "        for i in args:\n",
    "            self.link.append(i)\n",
    "            \n",
    "    def addUrl(self, url):\n",
    "        if url not in self.link:\n",
    "            self.link.append(url)\n",
    "        return self.link\n",
    "        \n",
    "    def removeUrl(self, xurl):\n",
    "        if xurl in self.link:\n",
    "            self.link.remove(xurl)\n",
    "        return self.link\n",
    "        \n",
    "    def listUrls(self):\n",
    "        for i in self.link:\n",
    "            print(i)\n",
    "            \n",
    "    def getWordsFrequency(self):\n",
    "        if self.link==[]:\n",
    "            print(\"List is empty.\")\n",
    "        for i in self.link:\n",
    "            req=requests.get(i)\n",
    "            source=req.text\n",
    "            body=re.search('<body.*/body>',source,re.I|re.S)\n",
    "\n",
    "            if(body is None):\n",
    "                print(\"No <body> in html\")\n",
    "                exit()\n",
    "    \n",
    "            body=body.group()\n",
    "            body=re.sub('<script.*?.*?</script>','',body,0,re.I|re.S)\n",
    "            text=re.sub('<.+?>','',body,0,re.I|re.S)\n",
    "            others=re.sub('{.+?}','',text,0,re.I|re.S)\n",
    "            others2=re.sub('._1syGnXOL.*?.*?_:after','',others,0,re.I|re.S)\n",
    "            nospace = re.sub('★|©|-|@|\\t|\\r|\\n', ' ', others2)\n",
    "            nopunc=nospace.translate(str.maketrans('', '', string.punctuation))\n",
    "\n",
    "            result=nopunc.split(' ')\n",
    "            result = list(map(lambda x: x.strip(), result))\n",
    "            result = list(filter(lambda x: x != '', result))\n",
    "            count=dict()\n",
    "            for word in result:\n",
    "                count[word]=count.get(word,0)+1\n",
    "        \n",
    "            stef=open(\"stop_words_english.txt\",\"r\",encoding='utf-8')\n",
    "            stkf=open(\"stop_words_korean.txt\",\"r\",encoding='utf-8')\n",
    "            stew=stef.read()\n",
    "            stkw=stkf.read()\n",
    "            stefile=stew.split('\\n')\n",
    "            stkfile=stkw.split('\\n')\n",
    "\n",
    "            #stop_file={}\n",
    "            for key, value in count.items():\n",
    "                if key not in (stefile+stkfile):\n",
    "                    self.dictionary[key]=value\n",
    "            \n",
    "            return self.dictionary\n",
    "            \n",
    "    def getMaxFreqencyWords(self):\n",
    "        \n",
    "        maxfreq_f=sorted(self.dictionary.items(),key=lambda x:x[1], reverse=True)\n",
    "        \n",
    "        max3=maxfreq_f[:1]\n",
    "        \n",
    "        return dict(max3)\n",
    "            \n",
    "w1 = SearchEngine('http://www.cnn.com', 'http://www.times.com', 'https://www.amazon.com')\n",
    "print(w1.link)\n",
    "print(w1.addUrl('https://github.com'))\n",
    "print(w1.removeUrl('http://www.cnn.com'))\n",
    "w1.listUrls()\n",
    "print(w1.getWordsFrequency())\n",
    "w1.getMaxFreqencyWords()"
   ]
  },
  {
   "cell_type": "markdown",
   "id": "97041a35",
   "metadata": {},
   "source": [
    "\n",
    "1. 클래스를 정의하고 그의 생성자를 작성해준다. 여기에 URL을 넣을 수 있는 리스트를 만들어준다. 그리고 받은 가변인자들을 넣어준다.\n",
    "\n",
    "2. 만약 self.link에 인자로 받은 URL이 없다면 넣어준다.\n",
    "\n",
    "3. 만약 self.link에 인자로 받은 URL이 있다면 삭제해준다.\n",
    "\n",
    "4. self.link를 for문으로 돌려주고 출력해준다.\n",
    "\n",
    "5. 생성자에 저장할 딕셔너리 변수를 만들어준 후 기존의 과제에서 수행했던 것을 불러와 마지막 딕셔너리 요소들을 생성자에 넣어준다.\n",
    "\n",
    "6.딕셔너리 생성자에서 아이템들을 불러와 내림차순으로 정렬해주고 첫번째 요소를 반환하는데 이때 사전 형태로 형변환해준다."
   ]
  },
  {
   "cell_type": "markdown",
   "id": "1ad7e4e1",
   "metadata": {},
   "source": [
    "### 느낀점\n",
    "다른 과제들과 연관하여 새롭게 변환하는 과정에서 많이 헷갈렸지만 다 한 후에 그 과정을 이해하는 과정에서 많이 배운것같다."
   ]
  }
 ],
 "metadata": {
  "kernelspec": {
   "display_name": "Python 3",
   "language": "python",
   "name": "python3"
  },
  "language_info": {
   "codemirror_mode": {
    "name": "ipython",
    "version": 3
   },
   "file_extension": ".py",
   "mimetype": "text/x-python",
   "name": "python",
   "nbconvert_exporter": "python",
   "pygments_lexer": "ipython3",
   "version": "3.8.8"
  }
 },
 "nbformat": 4,
 "nbformat_minor": 5
}

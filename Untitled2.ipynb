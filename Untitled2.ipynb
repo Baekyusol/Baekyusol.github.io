{
 "cells": [
  {
   "cell_type": "markdown",
   "id": "57d6ca14",
   "metadata": {},
   "source": [
    "# 1."
   ]
  },
  {
   "cell_type": "code",
   "execution_count": 7,
   "id": "d67f21ca",
   "metadata": {},
   "outputs": [
    {
     "name": "stdout",
     "output_type": "stream",
     "text": [
      "Python Hello\n"
     ]
    }
   ],
   "source": [
    "a=\"Hello Python\"\n",
    "x1=a[6:]\n",
    "x2=a[:5]\n",
    "a=x1+\" \"+x2\n",
    "print(a)"
   ]
  },
  {
   "cell_type": "markdown",
   "id": "2da74c86",
   "metadata": {},
   "source": [
    "# 2."
   ]
  },
  {
   "cell_type": "code",
   "execution_count": 15,
   "id": "3264ba70",
   "metadata": {},
   "outputs": [
    {
     "name": "stdout",
     "output_type": "stream",
     "text": [
      " World Python Hello\n"
     ]
    }
   ],
   "source": [
    "b=\"Hello Python World\"\n",
    "x1=b[6:12]\n",
    "x2=b[12:]\n",
    "x3=b[:5]\n",
    "b=x2+\" \"+x1+\" \"+x3\n",
    "print(b)"
   ]
  },
  {
   "cell_type": "markdown",
   "id": "504682ae",
   "metadata": {},
   "source": [
    "# 3."
   ]
  },
  {
   "cell_type": "code",
   "execution_count": 16,
   "id": "334730b6",
   "metadata": {},
   "outputs": [
    {
     "name": "stdout",
     "output_type": "stream",
     "text": [
      "olleH\n"
     ]
    }
   ],
   "source": [
    "c=\"Hello\"\n",
    "x1=c[::-1]\n",
    "c=x1\n",
    "print(c)"
   ]
  },
  {
   "cell_type": "markdown",
   "id": "ec9a22b3",
   "metadata": {},
   "source": [
    "# 4."
   ]
  },
  {
   "cell_type": "code",
   "execution_count": 21,
   "id": "ef1a6f07",
   "metadata": {},
   "outputs": [
    {
     "name": "stdout",
     "output_type": "stream",
     "text": [
      "p\n",
      "p\n",
      "p\n",
      "ytho\n",
      "\n"
     ]
    }
   ],
   "source": [
    "s=\"python\"\n",
    "print(s[0])\n",
    "print(s[0][0])\n",
    "print(s[0][0][0])\n",
    "\n",
    "print(s[1:-1])"
   ]
  },
  {
   "cell_type": "markdown",
   "id": "f909574e",
   "metadata": {},
   "source": [
    "### A. python 을 하나의 배열로 보자면 s[0]은 [p,y,t,h,o,n]의 첫번째 문자 p를 출력한다. s[0][0]은 마찬가지로 [p,y,t,h,o,n]을 첫번째 배열로 보고 그의 첫번째 문자인 p를 출력한다. s[0][0][0] 또한 삼차원 공간에서 첫번째 배열의 첫번째글자로 p를 출력한다.\n",
    "### D. [p,y,t,h,o,n]의 배열로 배열은 0부터 시작하기 때문에 s[1:-1]은 1부터 시작해서 거꾸로 1 가서 end이다. s[1]은 y, s[-1]은 n이다. 따라서 y부터 n전까지 ytho가 출력된다."
   ]
  },
  {
   "cell_type": "code",
   "execution_count": 24,
   "id": "ed0b2dd2",
   "metadata": {},
   "outputs": [
    {
     "ename": "IndexError",
     "evalue": "string index out of range",
     "output_type": "error",
     "traceback": [
      "\u001b[1;31m---------------------------------------------------------------------------\u001b[0m",
      "\u001b[1;31mIndexError\u001b[0m                                Traceback (most recent call last)",
      "\u001b[1;32m<ipython-input-24-5098d71c1a5b>\u001b[0m in \u001b[0;36m<module>\u001b[1;34m\u001b[0m\n\u001b[0;32m      1\u001b[0m \u001b[0ms\u001b[0m\u001b[1;33m=\u001b[0m\u001b[1;34m\"python\"\u001b[0m\u001b[1;33m\u001b[0m\u001b[1;33m\u001b[0m\u001b[0m\n\u001b[0;32m      2\u001b[0m \u001b[1;33m\u001b[0m\u001b[0m\n\u001b[1;32m----> 3\u001b[1;33m \u001b[0mprint\u001b[0m\u001b[1;33m(\u001b[0m\u001b[0ms\u001b[0m\u001b[1;33m[\u001b[0m\u001b[1;33m-\u001b[0m\u001b[1;36m100\u001b[0m\u001b[1;33m]\u001b[0m\u001b[1;33m)\u001b[0m\u001b[1;33m\u001b[0m\u001b[1;33m\u001b[0m\u001b[0m\n\u001b[0m\u001b[0;32m      4\u001b[0m \u001b[0mprint\u001b[0m\u001b[1;33m(\u001b[0m\u001b[0ms\u001b[0m\u001b[1;33m[\u001b[0m\u001b[1;36m100\u001b[0m\u001b[1;33m]\u001b[0m\u001b[1;33m)\u001b[0m\u001b[1;33m\u001b[0m\u001b[1;33m\u001b[0m\u001b[0m\n",
      "\u001b[1;31mIndexError\u001b[0m: string index out of range"
     ]
    }
   ],
   "source": [
    "s=\"python\"\n",
    "\n",
    "print(s[-100])\n",
    "print(s[100])\n"
   ]
  },
  {
   "cell_type": "markdown",
   "id": "5e92d5b3",
   "metadata": {},
   "source": [
    "### B. indexerror를 보면 문자열 범위 밖이라고 나온다. 즉 문자열 [p,y,t,h,o,n]은 6개의 공간밖에 가지고 있지 않기 때문에 100은 문자열 밖이므로 오류가 난다.  "
   ]
  },
  {
   "cell_type": "code",
   "execution_count": 22,
   "id": "7e3f3d22",
   "metadata": {},
   "outputs": [
    {
     "ename": "TypeError",
     "evalue": "string indices must be integers",
     "output_type": "error",
     "traceback": [
      "\u001b[1;31m---------------------------------------------------------------------------\u001b[0m",
      "\u001b[1;31mTypeError\u001b[0m                                 Traceback (most recent call last)",
      "\u001b[1;32m<ipython-input-22-74c83dcef936>\u001b[0m in \u001b[0;36m<module>\u001b[1;34m\u001b[0m\n\u001b[0;32m      1\u001b[0m \u001b[0ms\u001b[0m\u001b[1;33m=\u001b[0m\u001b[1;34m\"python\"\u001b[0m\u001b[1;33m\u001b[0m\u001b[1;33m\u001b[0m\u001b[0m\n\u001b[0;32m      2\u001b[0m \u001b[1;33m\u001b[0m\u001b[0m\n\u001b[1;32m----> 3\u001b[1;33m \u001b[0mprint\u001b[0m\u001b[1;33m(\u001b[0m\u001b[0ms\u001b[0m\u001b[1;33m[\u001b[0m\u001b[1;33m-\u001b[0m\u001b[1;36m100\u001b[0m\u001b[1;33m,\u001b[0m\u001b[1;36m100\u001b[0m\u001b[1;33m]\u001b[0m\u001b[1;33m)\u001b[0m\u001b[1;33m\u001b[0m\u001b[1;33m\u001b[0m\u001b[0m\n\u001b[0m",
      "\u001b[1;31mTypeError\u001b[0m: string indices must be integers"
     ]
    }
   ],
   "source": [
    "s=\"python\"\n",
    "\n",
    "print(s[-100,100])"
   ]
  },
  {
   "cell_type": "markdown",
   "id": "684be995",
   "metadata": {},
   "source": [
    "### C. 오류를 보면 문자열 인덱스는 정수여야 한다고 나와있다. 이것은 문자열과 같은 반복 가능한 객체에 접근할 때 숫자 값을 사용하여 접근해야 함을 의미한다. "
   ]
  },
  {
   "cell_type": "code",
   "execution_count": 25,
   "id": "b1e344be",
   "metadata": {},
   "outputs": [
    {
     "name": "stdout",
     "output_type": "stream",
     "text": [
      "\n"
     ]
    }
   ],
   "source": [
    "s=\"python\"\n",
    "\n",
    "print(s[3:-3])"
   ]
  },
  {
   "cell_type": "markdown",
   "id": "f5868f67",
   "metadata": {},
   "source": [
    "### E. s[3]은 h이고 s[-3] 또한 h이다. 따라서 s[3:-3]은 h에서 h 전까지 이므로 아무것도 출력되지 않는다. "
   ]
  },
  {
   "cell_type": "markdown",
   "id": "b4404abe",
   "metadata": {},
   "source": [
    "# 5."
   ]
  },
  {
   "cell_type": "code",
   "execution_count": 38,
   "id": "6c4bd013",
   "metadata": {},
   "outputs": [
    {
     "name": "stdout",
     "output_type": "stream",
     "text": [
      "1\n",
      "3\n",
      "5\n",
      "7\n",
      "9\n",
      "11\n",
      "13\n",
      "15\n",
      "17\n",
      "19\n",
      "21\n",
      "23\n",
      "25\n",
      "27\n",
      "29\n",
      "31\n",
      "33\n",
      "35\n",
      "37\n",
      "39\n",
      "41\n",
      "43\n",
      "45\n",
      "47\n",
      "49\n",
      "51\n",
      "53\n",
      "55\n",
      "57\n",
      "59\n",
      "61\n",
      "63\n",
      "65\n",
      "67\n",
      "69\n",
      "71\n",
      "73\n",
      "75\n",
      "77\n",
      "79\n",
      "81\n",
      "83\n",
      "85\n",
      "87\n",
      "89\n",
      "91\n",
      "93\n",
      "95\n",
      "97\n",
      "99\n"
     ]
    }
   ],
   "source": [
    "for i in range(1,101):\n",
    "    if i%2==1:\n",
    "        print(i)"
   ]
  },
  {
   "cell_type": "markdown",
   "id": "82b4a412",
   "metadata": {},
   "source": [
    "# 6."
   ]
  },
  {
   "cell_type": "code",
   "execution_count": 3,
   "id": "ba86623b",
   "metadata": {},
   "outputs": [
    {
     "name": "stdout",
     "output_type": "stream",
     "text": [
      "2550\n"
     ]
    }
   ],
   "source": [
    "i=1\n",
    "result=0\n",
    "while i<100:\n",
    "    i+=1\n",
    "    if i%2==0:\n",
    "        result+=i\n",
    "print(result)"
   ]
  },
  {
   "cell_type": "code",
   "execution_count": null,
   "id": "0b1f1482",
   "metadata": {},
   "outputs": [],
   "source": []
  }
 ],
 "metadata": {
  "kernelspec": {
   "display_name": "Python 3",
   "language": "python",
   "name": "python3"
  },
  "language_info": {
   "codemirror_mode": {
    "name": "ipython",
    "version": 3
   },
   "file_extension": ".py",
   "mimetype": "text/x-python",
   "name": "python",
   "nbconvert_exporter": "python",
   "pygments_lexer": "ipython3",
   "version": "3.8.8"
  }
 },
 "nbformat": 4,
 "nbformat_minor": 5
}

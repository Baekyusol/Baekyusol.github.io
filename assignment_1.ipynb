{
 "cells": [
  {
   "cell_type": "markdown",
   "id": "57d6ca14",
   "metadata": {},
   "source": [
    "# 1."
   ]
  },
  {
   "cell_type": "code",
   "execution_count": 7,
   "id": "d67f21ca",
   "metadata": {},
   "outputs": [
    {
     "name": "stdout",
     "output_type": "stream",
     "text": [
      "Python Hello\n"
     ]
    }
   ],
   "source": [
    "a=\"Hello Python\"\n",
    "x1=a[6:]\n",
    "x2=a[:5]\n",
    "a=x1+\" \"+x2\n",
    "print(a)"
   ]
  },
  {
   "cell_type": "markdown",
   "id": "fc4e1888",
   "metadata": {},
   "source": [
    "### x1, x2를 설정하여 각각 Python, Hello를 저장해준 다음 a에 순서에 맞게 다시 저장하여 출력해준다. "
   ]
  },
  {
   "cell_type": "markdown",
   "id": "2da74c86",
   "metadata": {},
   "source": [
    "# 2."
   ]
  },
  {
   "cell_type": "code",
   "execution_count": 15,
   "id": "3264ba70",
   "metadata": {},
   "outputs": [
    {
     "name": "stdout",
     "output_type": "stream",
     "text": [
      " World Python Hello\n"
     ]
    }
   ],
   "source": [
    "b=\"Hello Python World\"\n",
    "x1=b[6:12]\n",
    "x2=b[12:]\n",
    "x3=b[:5]\n",
    "b=x2+\" \"+x1+\" \"+x3\n",
    "print(b)"
   ]
  },
  {
   "cell_type": "markdown",
   "id": "4b3a4b14",
   "metadata": {},
   "source": [
    "### x1,x2,x3를 설정하여 각각 Python, World, Hello를 저장해준 다음 문제의 답 순서대로 b에 다시 저장하여 마지막으로 b를 출력한다. "
   ]
  },
  {
   "cell_type": "markdown",
   "id": "504682ae",
   "metadata": {},
   "source": [
    "# 3."
   ]
  },
  {
   "cell_type": "code",
   "execution_count": 16,
   "id": "334730b6",
   "metadata": {},
   "outputs": [
    {
     "name": "stdout",
     "output_type": "stream",
     "text": [
      "olleH\n"
     ]
    }
   ],
   "source": [
    "c=\"Hello\"\n",
    "x1=c[::-1]\n",
    "c=x1\n",
    "print(c)"
   ]
  },
  {
   "cell_type": "markdown",
   "id": "4279d214",
   "metadata": {},
   "source": [
    "### 문제대로 c는 \"Hello\"로 설정해준다. 결과값을 저장할 x1에 step을 사용해 거꾸로 출력되도록 -1을 작성해주고 이를 다시 c에 저장한다. 마지막으로 c를 출력하면 거꾸로 출력된다."
   ]
  },
  {
   "cell_type": "markdown",
   "id": "ec9a22b3",
   "metadata": {},
   "source": [
    "# 4."
   ]
  },
  {
   "cell_type": "code",
   "execution_count": 21,
   "id": "ef1a6f07",
   "metadata": {},
   "outputs": [
    {
     "name": "stdout",
     "output_type": "stream",
     "text": [
      "p\n",
      "p\n",
      "p\n",
      "ytho\n",
      "\n"
     ]
    }
   ],
   "source": [
    "s=\"python\"\n",
    "print(s[0])\n",
    "print(s[0][0])\n",
    "print(s[0][0][0])\n",
    "\n",
    "print(s[1:-1])"
   ]
  },
  {
   "cell_type": "markdown",
   "id": "f909574e",
   "metadata": {},
   "source": [
    "### A. python 을 하나의 배열로 보자면 s[0]은 [p,y,t,h,o,n]의 첫번째 문자 p를 출력한다. s[0][0]은 마찬가지로 [p,y,t,h,o,n]을 첫번째 배열로 보고 그의 첫번째 문자인 p를 출력한다. s[0][0][0] 또한 삼차원 공간에서 첫번째 배열의 첫번째글자로 p를 출력한다.\n",
    "### D. [p,y,t,h,o,n]의 배열로 배열은 0부터 시작하기 때문에 s[1:-1]은 1부터 시작해서 거꾸로 1 가서 end이다. s[1]은 y, s[-1]은 n이다. 따라서 y부터 n전까지 ytho가 출력된다."
   ]
  },
  {
   "cell_type": "code",
   "execution_count": 24,
   "id": "ed0b2dd2",
   "metadata": {},
   "outputs": [
    {
     "ename": "IndexError",
     "evalue": "string index out of range",
     "output_type": "error",
     "traceback": [
      "\u001b[1;31m---------------------------------------------------------------------------\u001b[0m",
      "\u001b[1;31mIndexError\u001b[0m                                Traceback (most recent call last)",
      "\u001b[1;32m<ipython-input-24-5098d71c1a5b>\u001b[0m in \u001b[0;36m<module>\u001b[1;34m\u001b[0m\n\u001b[0;32m      1\u001b[0m \u001b[0ms\u001b[0m\u001b[1;33m=\u001b[0m\u001b[1;34m\"python\"\u001b[0m\u001b[1;33m\u001b[0m\u001b[1;33m\u001b[0m\u001b[0m\n\u001b[0;32m      2\u001b[0m \u001b[1;33m\u001b[0m\u001b[0m\n\u001b[1;32m----> 3\u001b[1;33m \u001b[0mprint\u001b[0m\u001b[1;33m(\u001b[0m\u001b[0ms\u001b[0m\u001b[1;33m[\u001b[0m\u001b[1;33m-\u001b[0m\u001b[1;36m100\u001b[0m\u001b[1;33m]\u001b[0m\u001b[1;33m)\u001b[0m\u001b[1;33m\u001b[0m\u001b[1;33m\u001b[0m\u001b[0m\n\u001b[0m\u001b[0;32m      4\u001b[0m \u001b[0mprint\u001b[0m\u001b[1;33m(\u001b[0m\u001b[0ms\u001b[0m\u001b[1;33m[\u001b[0m\u001b[1;36m100\u001b[0m\u001b[1;33m]\u001b[0m\u001b[1;33m)\u001b[0m\u001b[1;33m\u001b[0m\u001b[1;33m\u001b[0m\u001b[0m\n",
      "\u001b[1;31mIndexError\u001b[0m: string index out of range"
     ]
    }
   ],
   "source": [
    "s=\"python\"\n",
    "\n",
    "print(s[-100])\n",
    "print(s[100])\n"
   ]
  },
  {
   "cell_type": "markdown",
   "id": "5e92d5b3",
   "metadata": {},
   "source": [
    "### B. indexerror를 보면 문자열 범위 밖이라고 나온다. 즉 문자열 [p,y,t,h,o,n]은 6개의 공간밖에 가지고 있지 않기 때문에 100은 문자열 밖이므로 오류가 난다.  "
   ]
  },
  {
   "cell_type": "code",
   "execution_count": 22,
   "id": "7e3f3d22",
   "metadata": {},
   "outputs": [
    {
     "ename": "TypeError",
     "evalue": "string indices must be integers",
     "output_type": "error",
     "traceback": [
      "\u001b[1;31m---------------------------------------------------------------------------\u001b[0m",
      "\u001b[1;31mTypeError\u001b[0m                                 Traceback (most recent call last)",
      "\u001b[1;32m<ipython-input-22-74c83dcef936>\u001b[0m in \u001b[0;36m<module>\u001b[1;34m\u001b[0m\n\u001b[0;32m      1\u001b[0m \u001b[0ms\u001b[0m\u001b[1;33m=\u001b[0m\u001b[1;34m\"python\"\u001b[0m\u001b[1;33m\u001b[0m\u001b[1;33m\u001b[0m\u001b[0m\n\u001b[0;32m      2\u001b[0m \u001b[1;33m\u001b[0m\u001b[0m\n\u001b[1;32m----> 3\u001b[1;33m \u001b[0mprint\u001b[0m\u001b[1;33m(\u001b[0m\u001b[0ms\u001b[0m\u001b[1;33m[\u001b[0m\u001b[1;33m-\u001b[0m\u001b[1;36m100\u001b[0m\u001b[1;33m,\u001b[0m\u001b[1;36m100\u001b[0m\u001b[1;33m]\u001b[0m\u001b[1;33m)\u001b[0m\u001b[1;33m\u001b[0m\u001b[1;33m\u001b[0m\u001b[0m\n\u001b[0m",
      "\u001b[1;31mTypeError\u001b[0m: string indices must be integers"
     ]
    }
   ],
   "source": [
    "s=\"python\"\n",
    "\n",
    "print(s[-100,100])"
   ]
  },
  {
   "cell_type": "markdown",
   "id": "684be995",
   "metadata": {},
   "source": [
    "### C. 오류를 보면 문자열 인덱스는 정수여야 한다고 나와있다. 이것은 문자열과 같은 반복 가능한 객체에 접근할 때 숫자 값을 사용하여 접근해야 함을 의미한다. "
   ]
  },
  {
   "cell_type": "code",
   "execution_count": 25,
   "id": "b1e344be",
   "metadata": {},
   "outputs": [
    {
     "name": "stdout",
     "output_type": "stream",
     "text": [
      "\n"
     ]
    }
   ],
   "source": [
    "s=\"python\"\n",
    "\n",
    "print(s[3:-3])"
   ]
  },
  {
   "cell_type": "markdown",
   "id": "f5868f67",
   "metadata": {},
   "source": [
    "### E. s[3]은 h이고 s[-3] 또한 h이다. 따라서 s[3:-3]은 h에서 h 전까지 이므로 아무것도 출력되지 않는다. "
   ]
  },
  {
   "cell_type": "markdown",
   "id": "b4404abe",
   "metadata": {},
   "source": [
    "# 5."
   ]
  },
  {
   "cell_type": "code",
   "execution_count": 38,
   "id": "6c4bd013",
   "metadata": {},
   "outputs": [
    {
     "name": "stdout",
     "output_type": "stream",
     "text": [
      "1\n",
      "3\n",
      "5\n",
      "7\n",
      "9\n",
      "11\n",
      "13\n",
      "15\n",
      "17\n",
      "19\n",
      "21\n",
      "23\n",
      "25\n",
      "27\n",
      "29\n",
      "31\n",
      "33\n",
      "35\n",
      "37\n",
      "39\n",
      "41\n",
      "43\n",
      "45\n",
      "47\n",
      "49\n",
      "51\n",
      "53\n",
      "55\n",
      "57\n",
      "59\n",
      "61\n",
      "63\n",
      "65\n",
      "67\n",
      "69\n",
      "71\n",
      "73\n",
      "75\n",
      "77\n",
      "79\n",
      "81\n",
      "83\n",
      "85\n",
      "87\n",
      "89\n",
      "91\n",
      "93\n",
      "95\n",
      "97\n",
      "99\n"
     ]
    }
   ],
   "source": [
    "for i in range(1,101):\n",
    "    if i%2==1:\n",
    "        print(i)"
   ]
  },
  {
   "cell_type": "markdown",
   "id": "b0e21823",
   "metadata": {},
   "source": [
    "### for문으로 1부터 100까지 범위를 설정해준다. 배열은 0부터 시작하므로 101로 설정해야 숫자 100가지 설정된다. 그리고 if문을 작성하여 i를 2로 나누었을 때 나머지가 1이면 홀수이므로 출력해준다. "
   ]
  },
  {
   "cell_type": "markdown",
   "id": "82b4a412",
   "metadata": {},
   "source": [
    "# 6."
   ]
  },
  {
   "cell_type": "code",
   "execution_count": 3,
   "id": "ba86623b",
   "metadata": {},
   "outputs": [
    {
     "name": "stdout",
     "output_type": "stream",
     "text": [
      "2550\n"
     ]
    }
   ],
   "source": [
    "i=1\n",
    "result=0\n",
    "while i<100:\n",
    "    i+=1\n",
    "    if i%2==0:\n",
    "        result+=i\n",
    "print(result)"
   ]
  },
  {
   "cell_type": "markdown",
   "id": "23038aed",
   "metadata": {},
   "source": [
    "### 일단 1부터 100사이 이므로 i=1로 설정하고 결과값 result는 초기화 한다. while문으로 100이하로 설정하고 i를 1씩 더해주어 1부터 100까지 순서가 넘어가도록 한다. 그리고 if문으로 짝수를 판별해준다. 만약 i가 2로 나누어 떨어지면 result에 i를 더해준다. 마지막으로 print로 결과값을 출력해준다. "
   ]
  },
  {
   "cell_type": "markdown",
   "id": "913c140c",
   "metadata": {},
   "source": [
    "# 7."
   ]
  },
  {
   "cell_type": "code",
   "execution_count": 3,
   "id": "6c483d92",
   "metadata": {},
   "outputs": [
    {
     "name": "stdout",
     "output_type": "stream",
     "text": [
      "정수를 입력하세요: 2154\n",
      "숫자의 역순은 4512 입니다.\n"
     ]
    }
   ],
   "source": [
    "number=input(\"정수를 입력하세요: \")\n",
    "result=number[::-1]\n",
    "print(\"숫자의 역순은 \"+result+\" 입니다.\")"
   ]
  },
  {
   "cell_type": "markdown",
   "id": "e617e713",
   "metadata": {},
   "source": [
    "### input으로 정수를 입력받은 다음 결과값에 step을 이용해 -1로 역순으로 가도록 설정을 해준다. print를 사용해 result, 즉 결과값을 출력해준다."
   ]
  },
  {
   "cell_type": "markdown",
   "id": "4fd7fdc7",
   "metadata": {},
   "source": [
    "# 8."
   ]
  },
  {
   "cell_type": "code",
   "execution_count": 18,
   "id": "239c0ca9",
   "metadata": {},
   "outputs": [
    {
     "name": "stdout",
     "output_type": "stream",
     "text": [
      "정수를 입력하시오: 10\n",
      "2 3 5 7 "
     ]
    }
   ],
   "source": [
    "n=(int)(input(\"정수를 입력하시오: \"))\n",
    "\n",
    "for i in range(n+1):\n",
    "    result=True\n",
    "    if(i<2):\n",
    "        result=False\n",
    "    for j in range(2,i):\n",
    "        if (i%j==0):\n",
    "            result=False\n",
    "    if result:  \n",
    "        print(i, end=\" \")\n",
    "        "
   ]
  },
  {
   "cell_type": "markdown",
   "id": "2b44d166",
   "metadata": {},
   "source": [
    "### n은 input을 사용해서 입력받는다. for문을 이용해 1~n까지 반복하고 만약 i가 2보다 작으면 fasle를 저장해준다. 그 다음 for문을 중첩하여 소수를 판별해준다. 만약 나머지가 0이면 소수가 아니므로 false로 해준다. 마지막에 result가 true일 때 i를 출력해준다. "
   ]
  },
  {
   "cell_type": "markdown",
   "id": "9d949e97",
   "metadata": {},
   "source": [
    "# 9."
   ]
  },
  {
   "cell_type": "code",
   "execution_count": 40,
   "id": "89d6b686",
   "metadata": {},
   "outputs": [
    {
     "name": "stdout",
     "output_type": "stream",
     "text": [
      "string S를 입력하세요: BANANA\n",
      "승자: Stuart 점수: 12\n"
     ]
    }
   ],
   "source": [
    "def banana_game(s):\n",
    "    Kevin = 0\n",
    "    Stuart = 0\n",
    "        \n",
    "    for c in range(len(s)-1):\n",
    "        if s[c] in \"AEIOU\":\n",
    "            Kevin += len(s) - c\n",
    "        else:\n",
    "            Stuart += len(s) - c\n",
    "\n",
    "    if Kevin > Stuart:\n",
    "        print('승자: Kevin 점수: ', Kevin)\n",
    "    elif Kevin < Stuart:\n",
    "        print('승자: Stuart 점수:', Stuart)\n",
    "    else :\n",
    "        print('Draw')\n",
    "        \n",
    "s = input(\"string S를 입력하세요: \")\n",
    "banana_game(s)\n"
   ]
  },
  {
   "cell_type": "markdown",
   "id": "2fce56ee",
   "metadata": {},
   "source": [
    "### 먼저 플레이어들을 초기화해준다. 그리고 문자열 s안에서 \"AEIOU\"로 모음을 구별해주고 이를 kevin에게 할당해줌으로서 모음으로 시작하게 한다. 그리고 문자열에서 모음이나 자음으로 시작하는 단어의 수를 받아 s의 길이에서 c만큼을 뺀 만큼을 더해주어 점수를 매긴다. if문을 작성하여 승자를 가려준다. 문자열 s는 input으로 받아주고 함수를 시작해준다. "
   ]
  },
  {
   "cell_type": "code",
   "execution_count": 74,
   "id": "3356144f",
   "metadata": {},
   "outputs": [
    {
     "name": "stdout",
     "output_type": "stream",
     "text": [
      "string S를 입력하세요: ashley\n",
      "string S를 입력하세요: ash\n",
      "숫자를 입력하세요: 2\n"
     ]
    },
    {
     "data": {
      "text/plain": [
       "'no'"
      ]
     },
     "execution_count": 74,
     "metadata": {},
     "output_type": "execute_result"
    }
   ],
   "source": [
    "def appendDelete(s, t, k):\n",
    "    a=0\n",
    "    i=0\n",
    "    if(len(s)<len(t)):\n",
    "        while(i<len(s)) :\n",
    "            if s[i]==t[i]:\n",
    "                i+=1\n",
    "            else :\n",
    "                break\n",
    "    else :\n",
    "        while(i<len(t)):\n",
    "            if s[i]==t[i]:\n",
    "                i+=1\n",
    "            else :\n",
    "                break\n",
    "\n",
    "    a=(len(s)-i)+(len(t)-i)\n",
    "    \n",
    "    if (k==a):\n",
    "        return 'yes'\n",
    "    else:\n",
    "        return 'no'\n",
    "       \n",
    "s = input(\"string S를 입력하세요: \")\n",
    "t = input(\"string S를 입력하세요: \")\n",
    "k = (int)(input(\"숫자를 입력하세요: \"))\n",
    "\n",
    "appendDelete(s,t,k)\n"
   ]
  },
  {
   "cell_type": "markdown",
   "id": "36c546ab",
   "metadata": {},
   "source": [
    "### a,i를 if문이 끝나도 저장되도록 밖에서 선언해준다. s와 t의 길이에 따라 i의 범위가 오버될 수 있으므로 if문으로 구분하여 작성한다. len(s)< len(t)일 때는 i가 s까지 검사해야하므로 while의 i범위는 len(s)보다 작을 때까지로 설정하고 만약 s[i]==t[i]이라면 i를 1더해 다음으로 넘어가준다. 다르면 if문으로 나와 a에 s길이에서 i를 뺀 값, 즉 문자가 다른 자리부터 끝까지의 길이와 t길이에서 i를 뺀 값을 더해준다. 이것이 입력받은 k와 같으면 yes를 return해주고 다르다면 no를 return 해준다. len(s)>=len(t)일 때는 while에서 i범위가 len(t)인것만 다르고 나머지는 같다. "
   ]
  },
  {
   "cell_type": "code",
   "execution_count": null,
   "id": "0cd58554",
   "metadata": {},
   "outputs": [],
   "source": []
  }
 ],
 "metadata": {
  "kernelspec": {
   "display_name": "Python 3",
   "language": "python",
   "name": "python3"
  },
  "language_info": {
   "codemirror_mode": {
    "name": "ipython",
    "version": 3
   },
   "file_extension": ".py",
   "mimetype": "text/x-python",
   "name": "python",
   "nbconvert_exporter": "python",
   "pygments_lexer": "ipython3",
   "version": "3.8.8"
  }
 },
 "nbformat": 4,
 "nbformat_minor": 5
}

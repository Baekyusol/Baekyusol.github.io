{
 "cells": [
  {
   "cell_type": "markdown",
   "id": "c7ca0c50",
   "metadata": {},
   "source": [
    "# 2020136063 백유솔\n",
    "# 1."
   ]
  },
  {
   "cell_type": "code",
   "execution_count": 2,
   "id": "c54bb000",
   "metadata": {},
   "outputs": [
    {
     "name": "stdout",
     "output_type": "stream",
     "text": [
      "4\n",
      "1\n",
      "2\n",
      "2\n",
      "1\n",
      "3\n"
     ]
    }
   ],
   "source": [
    "print(1 and 2 and 3 and 4)\n",
    "print(1 or 2 or 3 or 4)\n",
    "print(1 and 2 or 3 and 4)\n",
    "print((1 and 2) or (3 and 4))\n",
    "print(1 or 2 and 3 or 4)\n",
    "print((1 or 2) and (3 or 4))"
   ]
  },
  {
   "cell_type": "markdown",
   "id": "0cc803f0",
   "metadata": {},
   "source": [
    "### 1) and는 맨 오른쪽 것을 출력하게 된다. 따라서 4가 출력\n",
    "### 2) or은 맨 왼쪽 것을 출력하므로 1을 출력한다.\n",
    "### 3) 우선순위가 and 다음에 or 이므로 and 먼저 계산하면 2 or 4 가 남고 따라서 2가 출력된다.\n",
    "### 4) 괄호 안을 먼저 계산해주면 2 or 4가 남고 따라서 2가 출력된다.\n",
    "### 5) and를 먼저 계산해주면 1 or 3 or 4가 남고 따라서 1이 출력된다.\n",
    "### 6) 괄호 안을 먼저 계산해주면 1 and 3 이 남고 따라서 3이 출력된다."
   ]
  },
  {
   "cell_type": "markdown",
   "id": "4b1e1f50",
   "metadata": {},
   "source": [
    "# 2."
   ]
  },
  {
   "cell_type": "code",
   "execution_count": 50,
   "id": "cb99b5aa",
   "metadata": {},
   "outputs": [
    {
     "name": "stdout",
     "output_type": "stream",
     "text": [
      "['/usr/local/bin', 'python']\n"
     ]
    }
   ],
   "source": [
    "def div_path(s):\n",
    "    r=s.split(\"/\")\n",
    "    r2=\"/\".join(r[:4])\n",
    "    r3=\"\".join(r[4:])\n",
    "    L=[r2,r3]\n",
    "    print(L)\n",
    "                  \n",
    "div_path('/usr/local/bin/python')"
   ]
  },
  {
   "cell_type": "markdown",
   "id": "15cc75af",
   "metadata": {},
   "source": [
    "### 받은 문자열을 '/'를 기준으로 나눈다. 그리고 슬라이싱을 통해 디렉토리 이름과 파일이름을 나누어 저장해준다. 이때 디렉토리 이름은 /이 같이 출력되야 하므로 join을 써서 /를 저장해준다. 그리고 이들을 리스트에 저장하고 그 리스트를 출력해준다."
   ]
  },
  {
   "cell_type": "markdown",
   "id": "1372947b",
   "metadata": {},
   "source": [
    "# 3."
   ]
  },
  {
   "cell_type": "code",
   "execution_count": 56,
   "id": "3c094c06",
   "metadata": {},
   "outputs": [
    {
     "name": "stdout",
     "output_type": "stream",
     "text": [
      "[1, 2, 3, 4]\n"
     ]
    }
   ],
   "source": [
    "def list_union(lista,listb):\n",
    "    listL=lista+listb\n",
    "    listn=[]\n",
    "    for i in listL:\n",
    "        if i not in listn:\n",
    "            listn.append(i)\n",
    "    print(listn)\n",
    "            \n",
    "    \n",
    "list_union([1,2,3],[1,2,4])"
   ]
  },
  {
   "cell_type": "markdown",
   "id": "1f2bd04f",
   "metadata": {},
   "source": [
    "### 매개변수로 두 개의 리스트를 받아준 다음 하나의 리스트에 저장해준다. 그리고 새로운 리스트를 하나 더 만든다. for문을 이용해 리스트를 반복해준다. 그리고 새로운 리스트에 넣어주면서 만약 이미 존재한다면 빼주고 존재하지 않는다면 넣어준다. 마지막으로 출력해준다. "
   ]
  },
  {
   "cell_type": "markdown",
   "id": "4a3b8917",
   "metadata": {},
   "source": [
    "# 4."
   ]
  },
  {
   "cell_type": "code",
   "execution_count": 59,
   "id": "c7cc7992",
   "metadata": {},
   "outputs": [
    {
     "name": "stdout",
     "output_type": "stream",
     "text": [
      "[1, 2]\n"
     ]
    }
   ],
   "source": [
    "def list_intersection(lista,listb):\n",
    "    listL=lista+listb\n",
    "    listn=[]\n",
    "    for i in lista:\n",
    "        if i in listb:\n",
    "            listn.append(i)\n",
    "    print(listn)\n",
    "            \n",
    "    \n",
    "list_intersection([1,2,3],[1,2,4])"
   ]
  },
  {
   "cell_type": "markdown",
   "id": "897288cf",
   "metadata": {},
   "source": [
    "### 위의 식을 참고하여 작성해주었다. 이 코드는 교집합코드이니 각각의 리스트를 비교해주어야 한다. 따라서 반복문으로 a리스트를 반복해주면서 만약 b리스트에 존재한다면 새로운 리스트에 저장해준다. 마지막으로 출력해준다."
   ]
  },
  {
   "cell_type": "code",
   "execution_count": 60,
   "id": "d111f8d8",
   "metadata": {},
   "outputs": [
    {
     "name": "stdout",
     "output_type": "stream",
     "text": [
      "[3]\n"
     ]
    }
   ],
   "source": [
    "def list_difference(lista,listb):\n",
    "    listL=lista+listb\n",
    "    listn=[]\n",
    "    for i in lista:\n",
    "        if i not in listb:\n",
    "            listn.append(i)\n",
    "    print(listn)\n",
    "            \n",
    "    \n",
    "list_difference([1,2,3],[1,2,4])"
   ]
  },
  {
   "cell_type": "markdown",
   "id": "010898ff",
   "metadata": {},
   "source": [
    "### 위의 식을 참고하여 작성해주었다. 앞 리스트에서 뒤 리스트를 빼주는 식으로 해주었다. a리스트를 반복해주면서 b리스트에 없으면 새로운 리스트에 추가해준다. 그리고 그 리스트를 출력해준다. "
   ]
  },
  {
   "cell_type": "markdown",
   "id": "bfc08c79",
   "metadata": {},
   "source": [
    "# 5."
   ]
  },
  {
   "cell_type": "code",
   "execution_count": 72,
   "id": "cde9401b",
   "metadata": {},
   "outputs": [
    {
     "name": "stdout",
     "output_type": "stream",
     "text": [
      "[2, 3, 5, 7]\n"
     ]
    }
   ],
   "source": [
    "def print_primenumber(a,b):\n",
    "    _list=[]\n",
    "    for i in range(a,b+1):\n",
    "        result=True\n",
    "        if(i<2):\n",
    "            result=False\n",
    "        for j in range(2,i):\n",
    "            if (i%j==0):\n",
    "                result=False\n",
    "        if result:\n",
    "            _list.append(i)\n",
    "    print(_list)\n",
    "        \n",
    "print_primenumber(2,10)"
   ]
  },
  {
   "cell_type": "markdown",
   "id": "dc1d9848",
   "metadata": {},
   "source": [
    "### 저번에 작성했던 소수 출력 프로그램을 불러와 결과를 저장하는 부분을 리스트로 바꿔준다. 새로운 리스트를 선언하고 그곳에 결과를 저장해준다. 그리고 범위를 매개변수를 사용해 지정해 준다."
   ]
  }
 ],
 "metadata": {
  "kernelspec": {
   "display_name": "Python 3",
   "language": "python",
   "name": "python3"
  },
  "language_info": {
   "codemirror_mode": {
    "name": "ipython",
    "version": 3
   },
   "file_extension": ".py",
   "mimetype": "text/x-python",
   "name": "python",
   "nbconvert_exporter": "python",
   "pygments_lexer": "ipython3",
   "version": "3.8.8"
  }
 },
 "nbformat": 4,
 "nbformat_minor": 5
}

{
 "cells": [
  {
   "cell_type": "markdown",
   "id": "879cecb3",
   "metadata": {},
   "source": [
    "### 2020136099 이수민 Homework#1\n",
    "***"
   ]
  },
  {
   "cell_type": "markdown",
   "id": "12f24b31",
   "metadata": {},
   "source": [
    "#### [문제1] \n",
    "\n",
    "a=\"Hello Python\" 문자열을 Slicing과 연결 연산자 (+)를 사용하여 \"Python Hello\"로 변경하시오.\n",
    "\n",
    "  ◾ [주의] a 변수 자체에 \"Python Hello\" 문자열이 저장되어야 함"
   ]
  },
  {
   "cell_type": "code",
   "execution_count": 1,
   "id": "c41ff2ea",
   "metadata": {},
   "outputs": [
    {
     "name": "stdout",
     "output_type": "stream",
     "text": [
      "Python Hello\n"
     ]
    }
   ],
   "source": [
    "a = \"Hello Python\"\n",
    "a = a[6:] + \" \" + a[:5]\n",
    "print(a)"
   ]
  },
  {
   "cell_type": "markdown",
   "id": "c1ad7432",
   "metadata": {},
   "source": [
    "[설명1] \n",
    "\n",
    "- Slicing을 통해 단어 부분만 가져온 후, 연결 연산자를 통해 문제에 맞는 문자열을 변수 a에 대입하였다.\n",
    "\n",
    "***"
   ]
  },
  {
   "cell_type": "markdown",
   "id": "e8ddd2ae",
   "metadata": {},
   "source": [
    "#### [문제2]\n",
    "\n",
    "b=\"Hello Python World\" 문자열을 Slicing과 연결 연산자 (+)를 사용하여 \"World Python Hello\"로 변경하시오.\n",
    "\n",
    "  ◾ [주의] b 변수 자체에 \"World Python Hello\" 문자열이 저장되어야 함"
   ]
  },
  {
   "cell_type": "code",
   "execution_count": 3,
   "id": "ae5c2090",
   "metadata": {},
   "outputs": [
    {
     "name": "stdout",
     "output_type": "stream",
     "text": [
      "World Python Hello\n"
     ]
    }
   ],
   "source": [
    "b = \"Hello Python World\"\n",
    "b = b[13:]+ \" \" + b[6:13] + b[:5]\n",
    "print(b)"
   ]
  },
  {
   "cell_type": "markdown",
   "id": "f9aa7f4a",
   "metadata": {},
   "source": [
    "[설명2] \n",
    "\n",
    "- Slicing을 통해 단어 부분만 가져온 후, 연결 연산자를 통해 문제에 맞는 문자열을 변수 b에 대입하였다.\n",
    "\n",
    "***"
   ]
  },
  {
   "cell_type": "markdown",
   "id": "3935f9f3",
   "metadata": {},
   "source": [
    "#### [문제3]\n",
    "\n",
    "c=\"Hello\"를 \"olleH\"로 변경하시오.\n",
    "\n",
    " ◾ [주의] c 변수 자체에 \"olleH\" 문자열이 저장되어야 함"
   ]
  },
  {
   "cell_type": "code",
   "execution_count": 5,
   "id": "936cb46e",
   "metadata": {},
   "outputs": [
    {
     "name": "stdout",
     "output_type": "stream",
     "text": [
      "olleH\n"
     ]
    }
   ],
   "source": [
    "c = \"Hello\"\n",
    "c = c[::-1]\n",
    "print(c)"
   ]
  },
  {
   "cell_type": "markdown",
   "id": "b8006ad9",
   "metadata": {},
   "source": [
    "[설명3] \n",
    "\n",
    "- Slicing을 통해 단어 부분만 가져온 후, 연결 연산자를 통해 문제에 맞는 문자열을 변수 b에 대입하였다.\n",
    "\n",
    "***"
   ]
  },
  {
   "cell_type": "markdown",
   "id": "b8148a6c",
   "metadata": {},
   "source": [
    "#### [문제4]   \n",
    "\n",
    "s=\"python\"에 대해 다음 문제를 풀어보시오.\n"
   ]
  },
  {
   "cell_type": "markdown",
   "id": "4bd7c3f7",
   "metadata": {},
   "source": [
    ">A.  s[0], s[0][0], s[0][0][0]은 각각 어떤 값이 나오는지 확인하고 그 이유를 나름대로 설명해 보시오."
   ]
  },
  {
   "cell_type": "code",
   "execution_count": 7,
   "id": "4b93971f",
   "metadata": {},
   "outputs": [
    {
     "name": "stdout",
     "output_type": "stream",
     "text": [
      "p p p\n"
     ]
    }
   ],
   "source": [
    "s = \"python\"\n",
    "print(s[0], s[0][0], s[0][0][0])"
   ]
  },
  {
   "cell_type": "markdown",
   "id": "def0603b",
   "metadata": {},
   "source": [
    "[설명4.A] \n",
    "\n",
    "문자열의 인덱스는 0부터 시작한다.\n",
    "\n",
    "- s[0] #문자열 \"python\" 중 가장 첫번째 있는 문자인 p를 가리킨다.\n",
    "\n",
    "- s[0][0] #s[0]은 문자열 \"python\"을 가리키고 s[0][0]은 s[0]이 가리키는 문자열 중 아장 첫번째에 있는 문자인 p를 기리킨다.\n",
    "\n",
    "- s[0][0][0] #s[0]은 s[0][0]의 주소를 가리키고 s[0][0]는 문자열 \"python\"을 가리킨다.    그리고 s[0][0][0]은 s[0][0]이 가리키는 문자열 중 가장 첫번째에 있는 문자인 p를 가리킨다.\n",
    "***"
   ]
  },
  {
   "cell_type": "markdown",
   "id": "7665f171",
   "metadata": {},
   "source": [
    ">B. s[-100], s[100]은 값이 나오는지 에러가 나오는지 확인하고 그 결과에 대한 이유를 나름대로 설명해 보시오.\n"
   ]
  },
  {
   "cell_type": "code",
   "execution_count": 9,
   "id": "e67208b1",
   "metadata": {},
   "outputs": [
    {
     "ename": "IndexError",
     "evalue": "string index out of range",
     "output_type": "error",
     "traceback": [
      "\u001b[1;31m---------------------------------------------------------------------------\u001b[0m",
      "\u001b[1;31mIndexError\u001b[0m                                Traceback (most recent call last)",
      "\u001b[1;32m<ipython-input-9-ba2f49122037>\u001b[0m in \u001b[0;36m<module>\u001b[1;34m\u001b[0m\n\u001b[0;32m      1\u001b[0m \u001b[0ms\u001b[0m \u001b[1;33m=\u001b[0m \u001b[1;34m\"python\"\u001b[0m\u001b[1;33m\u001b[0m\u001b[1;33m\u001b[0m\u001b[0m\n\u001b[1;32m----> 2\u001b[1;33m \u001b[0mprint\u001b[0m\u001b[1;33m(\u001b[0m\u001b[0ms\u001b[0m\u001b[1;33m[\u001b[0m\u001b[1;33m-\u001b[0m\u001b[1;36m100\u001b[0m\u001b[1;33m]\u001b[0m\u001b[1;33m)\u001b[0m\u001b[1;33m\u001b[0m\u001b[1;33m\u001b[0m\u001b[0m\n\u001b[0m",
      "\u001b[1;31mIndexError\u001b[0m: string index out of range"
     ]
    }
   ],
   "source": [
    "s = \"python\"\n",
    "print(s[-100])"
   ]
  },
  {
   "cell_type": "code",
   "execution_count": 10,
   "id": "06bec531",
   "metadata": {},
   "outputs": [
    {
     "ename": "IndexError",
     "evalue": "string index out of range",
     "output_type": "error",
     "traceback": [
      "\u001b[1;31m---------------------------------------------------------------------------\u001b[0m",
      "\u001b[1;31mIndexError\u001b[0m                                Traceback (most recent call last)",
      "\u001b[1;32m<ipython-input-10-389b8fc499c6>\u001b[0m in \u001b[0;36m<module>\u001b[1;34m\u001b[0m\n\u001b[0;32m      1\u001b[0m \u001b[0ms\u001b[0m \u001b[1;33m=\u001b[0m \u001b[1;34m\"python\"\u001b[0m\u001b[1;33m\u001b[0m\u001b[1;33m\u001b[0m\u001b[0m\n\u001b[1;32m----> 2\u001b[1;33m \u001b[0mprint\u001b[0m\u001b[1;33m(\u001b[0m\u001b[0ms\u001b[0m\u001b[1;33m[\u001b[0m\u001b[1;36m100\u001b[0m\u001b[1;33m]\u001b[0m\u001b[1;33m)\u001b[0m\u001b[1;33m\u001b[0m\u001b[1;33m\u001b[0m\u001b[0m\n\u001b[0m",
      "\u001b[1;31mIndexError\u001b[0m: string index out of range"
     ]
    }
   ],
   "source": [
    "s = \"python\"\n",
    "print(s[100])"
   ]
  },
  {
   "cell_type": "markdown",
   "id": "c34cf2fd",
   "metadata": {},
   "source": [
    "[설명4.B] \n",
    "\n",
    "- 에러가 발생한다.\n",
    "\n",
    "- s의 인덱스 범위는 0~5 이지만, 문제에서는 입력한 -100과 100은 이 범위를 넘어가버린다. 그렇게 되면 입력한 인덱스에 해당하는 값이 존재하지 않기 때문에 오류가 발생한다.\n",
    "***"
   ]
  },
  {
   "cell_type": "markdown",
   "id": "5bcf314a",
   "metadata": {},
   "source": [
    ">C. s[-100, 100]은 값이 나오는지 에러가 나오는지 확인하고 그 결과에 대한 이유를 나름대로 설명해 보시오."
   ]
  },
  {
   "cell_type": "code",
   "execution_count": 12,
   "id": "44c6e100",
   "metadata": {
    "scrolled": true
   },
   "outputs": [
    {
     "ename": "TypeError",
     "evalue": "string indices must be integers",
     "output_type": "error",
     "traceback": [
      "\u001b[1;31m---------------------------------------------------------------------------\u001b[0m",
      "\u001b[1;31mTypeError\u001b[0m                                 Traceback (most recent call last)",
      "\u001b[1;32m<ipython-input-12-c5bf044844a8>\u001b[0m in \u001b[0;36m<module>\u001b[1;34m\u001b[0m\n\u001b[0;32m      1\u001b[0m \u001b[0ms\u001b[0m \u001b[1;33m=\u001b[0m \u001b[1;34m\"python\"\u001b[0m\u001b[1;33m\u001b[0m\u001b[1;33m\u001b[0m\u001b[0m\n\u001b[1;32m----> 2\u001b[1;33m \u001b[0mprint\u001b[0m\u001b[1;33m(\u001b[0m\u001b[0ms\u001b[0m\u001b[1;33m[\u001b[0m\u001b[1;33m-\u001b[0m\u001b[1;36m100\u001b[0m\u001b[1;33m,\u001b[0m \u001b[1;36m100\u001b[0m\u001b[1;33m]\u001b[0m\u001b[1;33m)\u001b[0m\u001b[1;33m\u001b[0m\u001b[1;33m\u001b[0m\u001b[0m\n\u001b[0m",
      "\u001b[1;31mTypeError\u001b[0m: string indices must be integers"
     ]
    }
   ],
   "source": [
    "s = \"python\"\n",
    "print(s[-100, 100])"
   ]
  },
  {
   "cell_type": "markdown",
   "id": "71013bab",
   "metadata": {},
   "source": [
    "[설명4.C]\n",
    "\n",
    "- 에러가 발생한다.\n",
    "\n",
    "- s의 인덱스 범위는 0~5 이지만, 문제에서는 입력한 인덱스가 이 범위를 넘어가버린다. 그렇게 되면 입력한 인덱스에 해당하는 값이 존재하지 않기 때문에 오류가 발생한다.\n"
   ]
  },
  {
   "cell_type": "markdown",
   "id": "cc61f7d9",
   "metadata": {},
   "source": [
    "◾ 궁금한 점 \n",
    "\n",
    "- 파이썬에서는 음수 인덱스로 접근할 수 있다고 알고 있는데 왜 TypeError가 뜨는지 궁급합니다.\n",
    "***"
   ]
  },
  {
   "cell_type": "markdown",
   "id": "2bc52d57",
   "metadata": {},
   "source": [
    ">D. s[1:-1]의 결과를 확인하고 그 결과에 대한 이유를 정확하게 설명하시오."
   ]
  },
  {
   "cell_type": "code",
   "execution_count": 16,
   "id": "3a9fd805",
   "metadata": {},
   "outputs": [
    {
     "name": "stdout",
     "output_type": "stream",
     "text": [
      "ytho\n"
     ]
    }
   ],
   "source": [
    "s = \"python\"\n",
    "print(s[1:-1])"
   ]
  },
  {
   "cell_type": "markdown",
   "id": "d79f0626",
   "metadata": {},
   "source": [
    "[설명4.D]\n",
    "\n",
    "- s[1]과 s[-1] 사이의 문자를 출력한다. 이때 음수 인덱스는 양수 인덱스와 반대 방향으로 접근하기 때문에 s[-1]은 문자 o를 가리킨다.\n",
    "***"
   ]
  },
  {
   "cell_type": "markdown",
   "id": "9472c59a",
   "metadata": {},
   "source": [
    ">E. s[3:-3]의 결과를 확인하고 그 결과에 대한 이유를 정확하게 설명하시오.z"
   ]
  },
  {
   "cell_type": "code",
   "execution_count": 17,
   "id": "7eb773ab",
   "metadata": {},
   "outputs": [
    {
     "name": "stdout",
     "output_type": "stream",
     "text": [
      "\n"
     ]
    }
   ],
   "source": [
    "s = \"python\"\n",
    "print(s[3:-3])"
   ]
  },
  {
   "cell_type": "markdown",
   "id": "ec94aaad",
   "metadata": {},
   "source": [
    "[설명4-E] \n",
    "\n",
    "- 아무것도 출력되지 않는다.\n",
    "\n",
    "- s[3]은 h를, s[-3]은 t를 가리킨다. 이때 s[3:-3]은 s[3]부터 s[-3]까지를 접근한다. 이때, s[-3]은 s[3]보다 전에 있기 때문에 범위에 들어가지 않아 접근할 수 있는 값이 없어서 아무것도 출력되지 않는다.\n",
    "\n"
   ]
  },
  {
   "attachments": {
    "%EB%AC%B8%EC%A0%9C4.E.jpg": {
     "image/jpeg": "[encoded data removed]"
    }
   },
   "cell_type": "markdown",
   "id": "bf9591ba",
   "metadata": {},
   "source": [
    "<img src=\"attachment:%EB%AC%B8%EC%A0%9C4.E.jpg\" wideth = \"450px\" height=\"300px\"></img>\n",
    "***"
   ]
  },
  {
   "cell_type": "markdown",
   "id": "74b658b4",
   "metadata": {},
   "source": [
    "#### [문제5]\n",
    "\n",
    "for문을 활용하여 1부터 100사이의 홀수를 출력하시오."
   ]
  },
  {
   "cell_type": "code",
   "execution_count": 8,
   "id": "a11bf683",
   "metadata": {},
   "outputs": [
    {
     "name": "stdout",
     "output_type": "stream",
     "text": [
      "1\n",
      "3\n",
      "5\n",
      "7\n",
      "9\n",
      "11\n",
      "13\n",
      "15\n",
      "17\n",
      "19\n",
      "21\n",
      "23\n",
      "25\n",
      "27\n",
      "29\n",
      "31\n",
      "33\n",
      "35\n",
      "37\n",
      "39\n",
      "41\n",
      "43\n",
      "45\n",
      "47\n",
      "49\n"
     ]
    }
   ],
   "source": [
    "for i in range(25):\n",
    "    print(2*i+1)"
   ]
  },
  {
   "cell_type": "markdown",
   "id": "5e618c42",
   "metadata": {},
   "source": [
    "[설명5] \n",
    "\n",
    "- for문을 이용하여 i가 0~25까지 식 (2*i + 1)을 통해 계산하여, 1부터 100사이에 있는 홀수를 구한 뒤 출력하였다.\n",
    "***"
   ]
  },
  {
   "cell_type": "markdown",
   "id": "c8ebc1dd",
   "metadata": {},
   "source": [
    "#### [문제6]\n",
    "\n",
    "while문을 활용하여 1부터 100사이의 짝수의 합을 계산하여 출력하시오."
   ]
  },
  {
   "cell_type": "code",
   "execution_count": 10,
   "id": "a82df6e7",
   "metadata": {},
   "outputs": [
    {
     "name": "stdout",
     "output_type": "stream",
     "text": [
      "2550\n"
     ]
    }
   ],
   "source": [
    "i = 0\n",
    "sum = 0\n",
    "while (i < 100):\n",
    "    sum += (i+2)\n",
    "    i+= 2\n",
    "print(sum)"
   ]
  },
  {
   "cell_type": "markdown",
   "id": "2e07925f",
   "metadata": {},
   "source": [
    "[설명6] \n",
    "\n",
    "- 짝수의 합을 저장할 변수 sum을 0으로 초기화하였다.\n",
    "\n",
    "- while문을 이용하여 i가 100보다 작을 때까지 반복하도록 하였고, 변수 sum에 (i+2)를 더한 뒤에 i의 값을 2씩 올렸다.(while문을 사용하기 전데 i를 0으로 선언 및 초기화한다.)\n",
    "\n",
    "- while문이 끝난 뒤 변수 sum의 값을 출력하였다.\n",
    "***"
   ]
  },
  {
   "cell_type": "markdown",
   "id": "34c53d24",
   "metadata": {},
   "source": [
    "#### [문제7]\n",
    "\n",
    "사용자로 부터 임의의 정수를 입력받고, 해당 숫자를 역순으로 출력하는 프로그램을 작성하시오."
   ]
  },
  {
   "cell_type": "code",
   "execution_count": 12,
   "id": "5e884e8b",
   "metadata": {},
   "outputs": [
    {
     "name": "stdout",
     "output_type": "stream",
     "text": [
      "정수를 입력하세요 : 3125\n",
      "숫자 역순은 5213 입니다.\n"
     ]
    }
   ],
   "source": [
    "n = input(\"정수를 입력하세요 : \")\n",
    "print(\"숫자 역순은 \" + n[::-1] + \" 입니다.\")"
   ]
  },
  {
   "cell_type": "markdown",
   "id": "a227f4ee",
   "metadata": {},
   "source": [
    "[설명7] \n",
    "\n",
    "- 출력할 때 n[::-1]과 같이 입력하여 역순으로 출력하였다.\n",
    "***"
   ]
  },
  {
   "cell_type": "markdown",
   "id": "d068d792",
   "metadata": {},
   "source": [
    "#### [문제8]\n",
    "\n",
    "사용자로 부터 정수를 입력받아서 1부터 그 사이에 존재하는 소수 (Prime number)를 출력하는 파이썬 프로그램을 작성하시오."
   ]
  },
  {
   "cell_type": "code",
   "execution_count": 13,
   "id": "f9d1c061",
   "metadata": {},
   "outputs": [
    {
     "name": "stdout",
     "output_type": "stream",
     "text": [
      "정수를 입력하세요 : 10\n",
      "[2, 3, 5, 7]\n"
     ]
    }
   ],
   "source": [
    "r = (int)(input(\"정수를 입력하세요 : \"))\n",
    "\n",
    "if (r == 1) or (r == 0):\n",
    "    print(\"None\")\n",
    "else:\n",
    "    p = list(range(r+1))\n",
    "    p.remove(0)\n",
    "    p.remove(1)\n",
    "\n",
    "    i = 0\n",
    "    while i < len(p):\n",
    "        j = i+1\n",
    "        while j < len(p):\n",
    "            if (p[j] % p[i]) == 0:\n",
    "                p.remove(p[j])\n",
    "            else:\n",
    "                j += 1\n",
    "        i += 1\n",
    "\n",
    "    print(p)"
   ]
  },
  {
   "cell_type": "markdown",
   "id": "53527a10",
   "metadata": {},
   "source": [
    "[설명8] \n",
    "\n",
    "- 정수를 변수 r에 입력받는다.\n",
    "- if-else 문을 사용하여 소수가 있는 경우와 없는 경우로 코드를 나눈다.\n",
    "- r의 값이 0이거나 1일 경우에는 소수가 존재하지 않기 때문에 \"None\"을 출력한다.\n",
    "- r의 값이 2이상인 경우, 0부터 r 사이의 모든 값을 리스트 변수 p에 저장한다. 그리고 0과 1을 p에서 삭제한다.\n",
    "- 반복문의 반복 횟수를 유동적으로 사용하기 위해 while문을 사용한다.\n",
    "- p[i]로 p[j]를 나누었을 때 나머지가 0이되면 p[j]값을 삭제한다.(j는 i보다 큰 수이다.)\n",
    "- while문이 끝나면 리스트 p에는 소수만 남아있기 때문에, 리스트 p를 출력한다.\n",
    "***"
   ]
  },
  {
   "cell_type": "markdown",
   "id": "ee34d9f5",
   "metadata": {},
   "source": [
    "#### [문제9]\n",
    "\n",
    "Kevin과 Stuart는 게임을 한다. 규칙은 아래와 같다.\n",
    "\n",
    ">두 플레이어에게 같은 string, S, 가 주어진다.\n",
    "\n",
    ">두 플레이어는 string S의 문자를 사용하여 substring을 만들어야 한다(중복 가능).\n",
    "\n",
    ">Stuart는 자음으로 시작하는 단어를 만들어야 한다.\n",
    "\n",
    ">Kevin은 모음으로 시작하는 단어를 만들어야 한다.\n",
    "\n",
    ">게임은 두 플레이어가 만들 수 있는 모든 단어를 만들었을 때 끝난다.\n",
    "\n",
    ">점수 계산 : substring 1개당 +1 점을 획득한다. (아래 그림 참고)\n",
    "\n",
    "사용자로 부터 대문자로 이루어진 string S를 입력받고, 승자와 그의 점수를 출력하는 프로그램을 작성하시오.\n"
   ]
  },
  {
   "cell_type": "code",
   "execution_count": 14,
   "id": "1dcde33f",
   "metadata": {},
   "outputs": [
    {
     "name": "stdout",
     "output_type": "stream",
     "text": [
      "string S를 입력하세요 : BANANA\n",
      "승자 : Stuart   점수 :  12\n"
     ]
    }
   ],
   "source": [
    "vowel = ['A', 'E', 'I', 'O', 'U']\n",
    "Kevin_s = 0\n",
    "Stuart_s = 0\n",
    "\n",
    "S = input(\"string S를 입력하세요 : \")\n",
    "\n",
    "i = 0\n",
    "while i < len(S):\n",
    "    temp = 0\n",
    "    for j in range(len(vowel)-1):\n",
    "        if S[i] == vowel[j]:\n",
    "            temp += 1\n",
    "            \n",
    "    if temp == 1:\n",
    "        Kevin_s += (len(S) - i)\n",
    "    else:\n",
    "        Stuart_s += (len(S) - i)\n",
    "    \n",
    "    i += 1\n",
    "\n",
    "if Kevin_s > Stuart_s:\n",
    "    print(\"승자 : Kevin   점수 : \", Kevin_s)\n",
    "elif Kevin_s < Stuart_s:\n",
    "    print(\"승자 : Stuart   점수 : \", Stuart_s)\n",
    "else:\n",
    "    print(\"무승부\")"
   ]
  },
  {
   "cell_type": "markdown",
   "id": "1c94035a",
   "metadata": {},
   "source": [
    "[설명9] \n",
    "\n",
    "- 모음을 리스트 형태로 변수 vowel에 선언 및 초기화한다.\n",
    "- Kevin과 Stuart의 점수를 각각 변수 Kevin_s와 Stuart_s에 저장하기 위해 선언하고 0으로 초기화한다.\n",
    "- 변수 S에 string s를 입력받는다.\n",
    "- while문을 사용하여 Kevin과 Stuart의 점수를 계산한다. 범위는 i의 값이 S의 길이보다 작을 때까지 반복하도록 하였고 while문을 작성하기 전에 i는 0으로 선언 및 초기화한다. 이때 반복할 때마다 변수 temp를 0으로 초기화 하여 해당 문자가 모음인지 판별한다. 그리고 반복문 마지막에는 i를 1씩 증가하도록 한다.\n",
    "- while문이 종료되고 Kevin_s과 Stuart_s의 값을 비교하여 승자와 점수를 출력한다.(무승부일 경우 \"무승부\"를 출력한다.)\n",
    "***"
   ]
  },
  {
   "cell_type": "markdown",
   "id": "04de9bac",
   "metadata": {},
   "source": [
    "#### [문제10]\n",
    "\n",
    "알파벳 소문자만으로 이루어진 string, S, 가 주어지고 아래 2가지 연산을 수행할 수 있다.\n",
    "\n",
    ">추가 : string S의 끝에 알파벳 소문자 하나를 추가한다.\n",
    "\n",
    ">삭제 : string S의 마지막 문자 하나를 삭제한다. empty string에서 삭제 연산을 수행한 결과는 empty string이다.\n",
    "\n",
    "두 개의 string, s와 t, 그리고 정수 k가 주어질 때, 정확히 k번의 연산을 통해 s를 t로 바꿀 수 있는지 판단하는 함수를 작성하시오."
   ]
  },
  {
   "cell_type": "code",
   "execution_count": 19,
   "id": "ad7bc1ef",
   "metadata": {},
   "outputs": [],
   "source": [
    "def appendDelete(s, t, k):\n",
    "    \n",
    "    i = 0\n",
    "    if len(s) <= len(t):\n",
    "        while i < len(s) :\n",
    "            if (s[i] != t[i]):\n",
    "                break\n",
    "            i += 1\n",
    "    else:\n",
    "         while i < len(t) :\n",
    "            if (s[i] != t[i]):\n",
    "                break\n",
    "            i += 1\n",
    "        \n",
    "\n",
    "    cnt = (len(s) - (i)) + (len(t) - (i))\n",
    "    if (cnt == k):\n",
    "        return 'Yes'\n",
    "    else:\n",
    "        return 'No'"
   ]
  },
  {
   "cell_type": "markdown",
   "id": "b4894278",
   "metadata": {},
   "source": [
    "[설명10]\n",
    "\n",
    "- while문을 통해 문자열 s와 t가 어느 인덱스 값까지 같은 문자인지 확인한다. 이때 i는 while 이전에 0으로 선언 및 초기화 하며, 한번 반복할 때마다 i의 값이 1씩 커지도록 한다. 그리고 i의 값은 연산 횟수를 계산할 때 사용된다.\n",
    "- 문자열 길이에 따라 실행되는 코드가 달라지도록 한다.\n",
    "- 문자열 s의 길이가 더 짧은 경우에는 i가 s의 길이보다 작을 때까지 반복하도록 한다. 그리고 문자열 t의 길이가 더 짧은 경우에는 i가 t의 길이보다 작을 때까지 반복하도록 한다.\n",
    "- 연산 횟수를 저장할 변수 cnt를 선엄함과 동시에 (len(s)-i)+(len(t)-i) 식을 통해 연산 횟수를 계산하여 그 값으로 변수 cnt를 초기화한다.(같은 문자를 제회한 나머지 문자를 추가하거나 제거하여 s를 t와 같게 만들어야하기 때문에 이와 같이 계산하였다.)\n",
    "- if-else문을 통해 cnt의 값이 k와 같으면 'Yes'를 같지 않으면 'No'를 반환한다."
   ]
  },
  {
   "cell_type": "markdown",
   "id": "37d5bda2",
   "metadata": {},
   "source": [
    "궁금한점"
   ]
  },
  {
   "cell_type": "code",
   "execution_count": 6,
   "id": "8d9d7510",
   "metadata": {},
   "outputs": [
    {
     "name": "stdout",
     "output_type": "stream",
     "text": [
      "s = ashley\n",
      "t = ash\n",
      "k = 2\n",
      "=> 'No'\n"
     ]
    }
   ],
   "source": [
    "def appendDelete(s, t, k):\n",
    "    \n",
    "    i = 0\n",
    "    if len(s) <= len(t):\n",
    "        while i < len(s) :\n",
    "            if (s[i] != t[i]):\n",
    "                break\n",
    "            i += 1\n",
    "    else:\n",
    "         while i < len(t) :\n",
    "            if (s[i] != t[i]):\n",
    "                break\n",
    "            i += 1\n",
    "        \n",
    "\n",
    "    cnt = (len(s) - (i)) + (len(t) - (i))\n",
    "    if (cnt == k):\n",
    "        return 'Yes'\n",
    "    else:\n",
    "        return 'No'\n",
    "    \n",
    "s = input(\"s = \")\n",
    "t = input(\"t = \")\n",
    "k = (int)(input(\"k = \"))\n",
    "print(\"=> '\" + appendDelete(s, t, k) + \"'\") "
   ]
  },
  {
   "cell_type": "markdown",
   "id": "cd0d677f",
   "metadata": {},
   "source": [
    "i의 값이 반복문에서 빠져나왔을 때 왜 5가 아닌 6이 되는지 궁금합니다.\n",
    "***"
   ]
  },
  {
   "cell_type": "markdown",
   "id": "43519c36",
   "metadata": {},
   "source": [
    "#### [느낀점]\n",
    "\n",
    "- 이전에 배웠던 언어와 조금씩 달라 아직은 헷갈리는 부분이 많았다. 실습을 더 해보면서 익숙해져야겠다고 생각했다.\n",
    "\n",
    "- 이 과제를 하기 전까지는 구글링에 의존한 것 같다는 생각이 들었다. 그래서 이번에는 모르는 개념 정도만 찾아보고 나머지는 시간을 투자하여 직접 해보면서 알고리즘을 짜고 이를 토대로 코드를 적는 능력이 향상된 것 같다.\n",
    "\n",
    "***"
   ]
  }
 ],
 "metadata": {
  "kernelspec": {
   "display_name": "Python 3",
   "language": "python",
   "name": "python3"
  },
  "language_info": {
   "codemirror_mode": {
    "name": "ipython",
    "version": 3
   },
   "file_extension": ".py",
   "mimetype": "text/x-python",
   "name": "python",
   "nbconvert_exporter": "python",
   "pygments_lexer": "ipython3",
   "version": "3.8.8"
  }
 },
 "nbformat": 4,
 "nbformat_minor": 5
}

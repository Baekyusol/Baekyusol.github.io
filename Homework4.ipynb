{
 "cells": [
  {
   "cell_type": "markdown",
   "id": "d9218f79",
   "metadata": {},
   "source": [
    "# 2020136063 백유솔"
   ]
  },
  {
   "cell_type": "markdown",
   "id": "bd0c6398",
   "metadata": {},
   "source": [
    "# 1."
   ]
  },
  {
   "cell_type": "code",
   "execution_count": null,
   "id": "73b4be37",
   "metadata": {},
   "outputs": [],
   "source": [
    "with open('s.txt','w') as f:\n",
    "    f.write('pig ham\\ncat dog\\nham bird\\ndog pig')"
   ]
  },
  {
   "cell_type": "code",
   "execution_count": 9,
   "id": "e5ef2d46",
   "metadata": {},
   "outputs": [
    {
     "name": "stdout",
     "output_type": "stream",
     "text": [
      "pig ham\n",
      "cat dog\n",
      "ham bird\n",
      "dog pig\n"
     ]
    }
   ],
   "source": [
    "with open('s.txt','r') as f:\n",
    "    s=f.read()\n",
    "    print(s)"
   ]
  },
  {
   "cell_type": "markdown",
   "id": "28c93cb2",
   "metadata": {},
   "source": [
    "### with as를 이용하여 파일을 쓰기 전용으로 연다. 그리고 f.wirte()로 내용을 작성한다. 그 다음 읽기 전용으로 열어 객체를 선언해 읽어 온다. "
   ]
  },
  {
   "cell_type": "code",
   "execution_count": 10,
   "id": "4931a4fd",
   "metadata": {},
   "outputs": [
    {
     "name": "stdout",
     "output_type": "stream",
     "text": [
      "cat dog\n",
      "dog pig\n",
      "ham bird\n",
      "pig ham\n"
     ]
    }
   ],
   "source": [
    "listn=s.split(\"\\n\")\n",
    "rlist=sorted(listn)\n",
    "r1='\\n'.join(rlist)\n",
    "\n",
    "with open('s1.txt','w') as s1:\n",
    "    s1.write(r1)\n",
    "    \n",
    "with open('s1.txt','r') as s1:\n",
    "    sa=s1.read()\n",
    "    print(sa)\n",
    "    "
   ]
  },
  {
   "cell_type": "markdown",
   "id": "f9e08107",
   "metadata": {},
   "source": [
    "### 위의 파일을 enter를 기준으로 리스트로 저장한다. 이를 sorted로 리스트를 정렬하여 다시 저장한다. 그리고 enter로 한 줄씩 리스트를 문자열로 바꿔준 후 with as로 파일을 쓰고 읽는다. "
   ]
  },
  {
   "cell_type": "code",
   "execution_count": 11,
   "id": "b23051c7",
   "metadata": {},
   "outputs": [
    {
     "name": "stdout",
     "output_type": "stream",
     "text": [
      "ham bird\n",
      "cat dog\n",
      "pig ham\n",
      "dog pig\n"
     ]
    }
   ],
   "source": [
    "lista=s.split('\\n')\n",
    "lista.sort(key=lambda x: (x.split(' ')[1]))\n",
    "r2='\\n'.join(lista)\n",
    "\n",
    "with open('s2.txt','w') as s2:\n",
    "    s2.write(r2)\n",
    "    \n",
    "with open('s2.txt','r') as s2:\n",
    "    sb=s2.read()\n",
    "    print(sb)"
   ]
  },
  {
   "cell_type": "markdown",
   "id": "d22abe74",
   "metadata": {},
   "source": [
    "### 파일을 라인을 기준으로 리스트로 저장한다. 이를 lambda를 이용해 공백을 기준으로 나누어 인덱스를 이용해 두번째 단어를 설정해주고  정렬한다. 이를 다시 문자열로 바꿔주고 with as를 이용해 쓰고 읽는다. "
   ]
  },
  {
   "cell_type": "code",
   "execution_count": 12,
   "id": "b3f450c0",
   "metadata": {},
   "outputs": [
    {
     "name": "stdout",
     "output_type": "stream",
     "text": [
      "pig ham cat \n",
      "dog ham bird \n",
      "dog pig \n"
     ]
    }
   ],
   "source": [
    "list3=s.split('\\n')\n",
    "a=' '.join(list3)\n",
    "b=a.split(' ')\n",
    "num=0\n",
    "with open('s3.txt','w') as s3:\n",
    "    for i in b:\n",
    "        num+=1\n",
    "        s3.write(i)\n",
    "        s3.write(' ')\n",
    "        if(num==3):\n",
    "            s3.write('\\n')\n",
    "            num=0\n",
    "        \n",
    "with open('s3.txt','r') as s3:\n",
    "    sc=s3.read()\n",
    "    print(sc)"
   ]
  },
  {
   "cell_type": "markdown",
   "id": "3ffa5f19",
   "metadata": {},
   "source": [
    "### 파일을 공백을 기준으로 리스트에 단어를 저장한다. 파일을 쓰기 전용으로 열고 단어들을 반복해준다. 단어가 3개마다 끊겨야하기 때문에 num객체를 선언하고 3이 될 때마다 라인을 바꾸고 다시 0으로 초기화 해준다. 이것을 파일에 작성해준다음 읽기 전용으로 열어 객체에 저장해 출력해준다."
   ]
  },
  {
   "cell_type": "code",
   "execution_count": null,
   "id": "5c28db64",
   "metadata": {},
   "outputs": [
    {
     "name": "stdout",
     "output_type": "stream",
     "text": [
      "Welcome to Our Service\n",
      "\n",
      " 1. Sign Up\n",
      " 2. Sign In\n",
      " 3. Quit\n",
      "\n"
     ]
    }
   ],
   "source": [
    "import hashlib\n",
    "import os\n",
    "\n",
    "f = open('access.txt', 'w')\n",
    "f.close()\n",
    "def sign_up():\n",
    "    print(\"Sign up\\n\")\n",
    "    while(True):\n",
    "        sd = 0\n",
    "        ID = input(\"ID : \")\n",
    "        with open('access.txt', 'r') as f:\n",
    "            id_f = f.readlines()\n",
    "            for i in id_f:\n",
    "                ilist = i.split(\" \")\n",
    "                if ID == ilist[0]:\n",
    "                    sd = 1\n",
    "                    break;\n",
    "        if sd == 1:\n",
    "            print(\"Sorry, the entered ID is already used.\")\n",
    "        else:  break\n",
    "            \n",
    "    password = input(\"Password : \")\n",
    "    PW = hashlib.sha256(password.encode()).hexdigest()\n",
    "    name = input(\"Name : \")\n",
    "    school = input(\"School : \")\n",
    "\n",
    "    with open('access.txt', 'a') as f:\n",
    "        f.write(\"{} : {}, {}, {}\".format(ID, PW, name, school))\n",
    "        f.write(\"\\n\")\n",
    "        \n",
    "def sign_in():\n",
    "    print(\"Sign in\\n\")\n",
    "    index = 0;\n",
    "    while(True):\n",
    "        sd = 0\n",
    "        mem_id = input(\"ID : \")\n",
    "        with open('access.txt', 'r') as f:\n",
    "            id_f = f.readlines()\n",
    "            for i in id_f:\n",
    "                ilist = i.split(\" \")\n",
    "                if mem_id == ilist[0]:\n",
    "                    sd = 1\n",
    "                    break;\n",
    "                index += 1\n",
    "        if sd == 0:\n",
    "            print(\"Sorry, you are not a registered member.\")\n",
    "        else: break\n",
    "        \n",
    "    while(True):\n",
    "        sd = 0\n",
    "        mem_pw = input(\"Password : \")\n",
    "        pw = hashlib.sha256(mem_pw.encode()).hexdigest()\n",
    "        with open('access.txt', 'r') as f:\n",
    "            id_f = f.readlines()\n",
    "            member = id_f[index].replace(\",\", \"\").split(\" \")\n",
    "            if pw == member[2]:\n",
    "                sd = 1\n",
    "        if sd == 0:\n",
    "            print(\"Sorry, the entered password is not correct.\")\n",
    "        else:\n",
    "            print(\"Hello \" + member[3] + \"!\")\n",
    "            break\n",
    "            \n",
    "print(\"Welcome to Our Service\\n\")\n",
    "print(\" 1. Sign Up\\n 2. Sign In\\n 3. Quit\\n\")\n",
    "while(True):\n",
    "    choice = input(\"Enter the number: \")\n",
    "    if choice == '1':\n",
    "        sign_up()\n",
    "    elif choice == '2':\n",
    "        sign_in()\n",
    "    elif choice == '3':\n",
    "        print(\"Bye~\")\n",
    "        break\n",
    "    else:\n",
    "        print(\"Not collect\")"
   ]
  },
  {
   "cell_type": "markdown",
   "id": "4e47c3d3",
   "metadata": {},
   "source": [
    "### 먼저 파일을 만들어 준다. 그리고 각각 함수로 작성하여 로그업, 로그인 함수를 작성해준다. sign_up 함수에선 먼저 id를 input으로 받아준다. 그 다음 파일을 열어 받은 id를 저장해준다. 이를 리스트로 저장해준다. 이때 id가 겹친다면 sd객체를 1로 바꿔주어 경고 문자를 출력한다. 다음으로 password, name, school을 받아준다. 이 때 password는 sha함수를 이용해 암호화 해준다. 그리고 이를 추가로 저장해주기 위해 추가 전용으로 열어준 후 f.wrtie()로 추가해준다. sign_in 함수는 id와 password를 확인해준다. id를 input으로 받은 다음 파일에 있는 id인지 확인한다. 있다면 sd객체와 index객체에 1을 더해준다. 없다면 sd객체가 그대로 0이므로 경고문구를 출력한다. 그 다음으로 password를 input으로 입력 받은 후 id의 password와 맞는 지 검사한다. 만약 맞다면 sd객체에 1을 더해준다. 아니라면 그대로 sd는 0이므로 경고 문구를 출력한다. 그리고 break하지 않고 다시 반복한다. 만약 sd가 0이 아니면 환영 문구를 출력한다. 마지막으로 1, 2, 3번호에 맞는 함수를 출력해준다.  "
   ]
  },
  {
   "cell_type": "code",
   "execution_count": 13,
   "id": "eccec2bd",
   "metadata": {},
   "outputs": [
    {
     "name": "stdout",
     "output_type": "stream",
     "text": [
      "[2.2, 2.7, 3.2, 3.7]\n"
     ]
    }
   ],
   "source": [
    "def frange(start,stop=-1,step=0.1):\n",
    "    if stop == -1:\n",
    "        stop=start\n",
    "        start=0\n",
    "    result=[]\n",
    "    while(start<stop):\n",
    "        result.append(start)\n",
    "        start+=step\n",
    "    print(result)\n",
    "        \n",
    "                \n",
    "frange(2.2, 4.0, 0.5)"
   ]
  },
  {
   "cell_type": "markdown",
   "id": "b7e57b40",
   "metadata": {},
   "source": [
    "### start 매개변수 말고 다른 변수는 키워드 변수로 선언해준다. 만약 매개변수가 하나라면 stop은 -1이므로 받은 값을 stop에 저장해주고 start를 초기화 해준다. 그리고 stop미만일 때동안 result리스트에 start를 저장해주고 step만큼 더해준다. 이때 매개변수가 두개라면 그대로 start와 stop에 저장되고 step은 기본 0.1이므로 0.1씩 더해진다. 하지만 매개변수가 3개라면 step도 저장되기 때문에 저장된 값만큼 증가시킬 수 있다. "
   ]
  },
  {
   "cell_type": "code",
   "execution_count": 14,
   "id": "9e997905",
   "metadata": {},
   "outputs": [
    {
     "name": "stdout",
     "output_type": "stream",
     "text": [
      "10\n"
     ]
    }
   ],
   "source": [
    "def sum(*num):\n",
    "    result=0\n",
    "    for item in num:\n",
    "        result+=item\n",
    "    print(result)\n",
    "        \n",
    "sum(1,2,3,4,5,-5)"
   ]
  },
  {
   "cell_type": "markdown",
   "id": "65378407",
   "metadata": {},
   "source": [
    "### 매개변수를 가변인자로 받아 for문으로 반복해준다. for문 안에서 result객체에 가변인자들을 더해준다. "
   ]
  },
  {
   "cell_type": "code",
   "execution_count": 15,
   "id": "dc411c5f",
   "metadata": {},
   "outputs": [
    {
     "name": "stdout",
     "output_type": "stream",
     "text": [
      "ASAP\n"
     ]
    }
   ],
   "source": [
    "def myinitial(str):\n",
    "    slist = str.split(\" \")\n",
    "    initlist = list(map(lambda x: x[0],slist))\n",
    "    init = ''.join(initlist).upper()\n",
    "    print(init)\n",
    "    \n",
    "myinitial(\"as soon as possible\")"
   ]
  },
  {
   "cell_type": "markdown",
   "id": "61c2cdea",
   "metadata": {},
   "source": [
    "### 먼저 문자열을 공백을 기준으로 나누어 리스트에 저장한다. lambda 함수를 이용해 리스트의 첫번째 인덱스인 문자를 받는 것을 map으로 처리해준다. 이를 리스트에 저장하고 upper()함수를 이용해 대문자로 바꾸어 출력해준다. "
   ]
  },
  {
   "cell_type": "code",
   "execution_count": null,
   "id": "659ead61",
   "metadata": {},
   "outputs": [],
   "source": [
    "def myfact(n):\n",
    "    if n==1:\n",
    "        return 1\n",
    "    return n*myfact(n-1)\n",
    "    \n",
    "myfact(2958)\n",
    "\n",
    "#RecursionError: maximum recursion depth exceeded in comparison"
   ]
  },
  {
   "cell_type": "markdown",
   "id": "cc18ea19",
   "metadata": {},
   "source": [
    "### 함수로 만들어 인자를 받아주고 return 값을 n*(n-1)이 되도록 재귀함수의 인자는 n-1로 설정해준다. 만약 인자가 1이면 1을 반환하도록 한다. "
   ]
  },
  {
   "cell_type": "markdown",
   "id": "1880808b",
   "metadata": {},
   "source": [
    "## [Incremental Project 문제]"
   ]
  },
  {
   "cell_type": "code",
   "execution_count": 3,
   "id": "f14f463e",
   "metadata": {},
   "outputs": [],
   "source": [
    "import requests\n",
    "import re\n",
    "import string\n",
    "\n",
    "req=requests.get('https://www.daum.net/')\n",
    "\n",
    "source=req.text\n",
    "\n",
    "#print(source)\n",
    "body=re.search('<body.*/body>',source,re.I|re.S)\n",
    "\n",
    "if(body is None):\n",
    "    print(\"No <body> in html\")\n",
    "    exit()\n",
    "    \n",
    "body=body.group()\n",
    "body=re.sub('<script.*?.*?</script>','',body,0,re.I|re.S)\n",
    "text=re.sub('<.+?>','',body,0,re.I|re.S)\n",
    "others=re.sub('{.+?}','',text,0,re.I|re.S)\n",
    "others2=re.sub('._1syGnXOL.*?.*?_:after','',others,0,re.I|re.S)\n",
    "nospace = re.sub('★|©|-|@|\\t|\\r|\\n', ' ', others2)\n",
    "nopunc=nospace.translate(str.maketrans('', '', string.punctuation))\n",
    "\n",
    "result=nopunc.split(' ')\n",
    "result = list(map(lambda x: x.strip(), result))\n",
    "result = list(filter(lambda x: x != '', result))\n",
    "count=dict()\n",
    "for word in result:\n",
    "    count[word]=count.get(word,0)+1\n",
    "#print(count)\n",
    "\n",
    "stef=open(\"stop_words_english.txt\",\"r\",encoding='utf-8')\n",
    "stkf=open(\"stop_words_korean.txt\",\"r\",encoding='utf-8')\n",
    "stew=stef.read()\n",
    "stkw=stkf.read()\n",
    "stefile=stew.split('\\n')\n",
    "stkfile=stkw.split('\\n')\n",
    "\n",
    "stop_file={}\n",
    "for key, value in count.items():\n",
    "    if key not in (stefile+stkfile):\n",
    "        stop_file[key]=value\n",
    "#print(stop_file)\n",
    "\n",
    "stef.close()\n",
    "stkf.close()"
   ]
  },
  {
   "cell_type": "markdown",
   "id": "5c150b39",
   "metadata": {},
   "source": [
    "### count 까지는 이전과제 내용과 일치한다. 한글 불용어와 영어 불용어를 txt파일로 저장해주고 open()을 이용해 읽기 전용으로 열어준다. 이때 문자열을 그대로 받으려면 utf-8 버전으로 인코딩해주어야 한다. 그 파일들을 read()로 읽어주고 라인을 기준으로 나누어 리스트로 저장한다. 사전의 요소들을 받아오기 위해 items()를 사용하여 반복해준다. 이때 key 내용이 불용어 파일에 없다면 stop_file에 key와 value를 저장해준다. "
   ]
  },
  {
   "cell_type": "code",
   "execution_count": 66,
   "id": "39da06aa",
   "metadata": {},
   "outputs": [],
   "source": [
    "import pickle\n",
    "\n",
    "reponse1=requests.get('https://finance.naver.com/')\n",
    "reponse2=requests.get('https://kostat.go.kr/portal/korea/index.action')\n",
    "reponse3=requests.get('https://www.weather.go.kr/w/index.do')\n",
    "reponse4=requests.get('https://hrdi.koreatech.ac.kr/hrdi/Main.do')\n",
    "reponse5=requests.get('https://sports.news.naver.com/index')\n",
    "\n",
    "source1=reponse1.text\n",
    "source2=reponse2.text\n",
    "source3=reponse3.text\n",
    "source4=reponse4.text\n",
    "source5=reponse5.text\n",
    "\n",
    "with open(\"finance.naver.com.html\",\"w\",encoding='utf-8') as html1:\n",
    "    html1.write(source1)\n",
    "with open('finance.naver.com.html','r',encoding='utf-8') as html1:\n",
    "    h1=html1.read()\n",
    "with open(\"kostat.go.kr.html\",\"w\",encoding='utf-8') as html2:\n",
    "    html2.write(source2)\n",
    "with open('kostat.go.kr.html','r',encoding='utf-8') as html2:\n",
    "    h2=html2.read()\n",
    "with open(\"www.weather.go.kr.html\",\"w\",encoding='utf-8') as html3:\n",
    "    html3.write(source3)\n",
    "with open('www.weather.go.kr.html','r',encoding='utf-8') as html3:\n",
    "    h3=html3.read()\n",
    "with open(\"hrdi.koreatech.ac.kr.html\",\"w\",encoding='utf-8') as html4:\n",
    "    html4.write(source4)\n",
    "with open('hrdi.koreatech.ac.kr.html','r',encoding='utf-8') as html4:\n",
    "    h4=html4.read()\n",
    "with open(\"sports.news.naver.com.html\",\"w\",encoding='utf-8') as html5:\n",
    "    html5.write(source5)\n",
    "with open('sports.news.naver.com.html','r',encoding='utf-8') as html5:\n",
    "    h5=html5.read()\n",
    "    #print(h1)\n",
    "    \n",
    "def dicfreq(file_name):\n",
    "    source=file_name\n",
    "    body=re.search('<body.*/body>',source,re.I|re.S)\n",
    "\n",
    "    if(body is None):\n",
    "        print(\"No <body> in html\")\n",
    "        exit()\n",
    "    \n",
    "    body=body.group()\n",
    "    body=re.sub('<script.*?.*?</script>','',body,0,re.I|re.S)\n",
    "    text=re.sub('<.+?>','',body,0,re.I|re.S)\n",
    "    others=re.sub('{.+?}','',text,0,re.I|re.S)\n",
    "    others2=re.sub('._1syGnXOL.*?.*?_:after','',others,0,re.I|re.S)\n",
    "    nospace = re.sub('★|©|-|@|\\t|\\r|\\n', ' ', others2)\n",
    "    nopunc=nospace.translate(str.maketrans('', '', string.punctuation))\n",
    "\n",
    "    result=nopunc.split(' ')\n",
    "    result = list(map(lambda x: x.strip(), result))\n",
    "    result = list(filter(lambda x: x != '', result))\n",
    "    count=dict()\n",
    "    for word in result:\n",
    "        count[word]=count.get(word,0)+1\n",
    "        \n",
    "    stef=open(\"stop_words_english.txt\",\"r\",encoding='utf-8')\n",
    "    stkf=open(\"stop_words_korean.txt\",\"r\",encoding='utf-8')\n",
    "    stew=stef.read()\n",
    "    stkw=stkf.read()\n",
    "    stefile=stew.split('\\n')\n",
    "    stkfile=stkw.split('\\n')\n",
    "\n",
    "    stop_file={}\n",
    "    for key, value in count.items():\n",
    "        if key not in (stefile+stkfile):\n",
    "            stop_file[key]=value\n",
    "            \n",
    "    return stop_file\n",
    "    \n",
    "with open('finance.naver.com.words_frequency.pickle','wb') as d1:\n",
    "    pickle.dump(dicfreq(h1),d1)\n",
    "with open('finance.naver.com.words_frequency.pickle','rb') as d1:\n",
    "    dict1=pickle.load(d1)\n",
    "with open('kostat.go.kr.words_frequency.pickle','wb') as d2:\n",
    "    pickle.dump(dicfreq(h2),d2)\n",
    "with open('kostat.go.kr.words_frequency.pickle','rb') as d2:\n",
    "    dict2=pickle.load(d2)\n",
    "with open('www.weather.go.kr.words_frequency.pickle','wb') as d3:\n",
    "    pickle.dump(dicfreq(h3),d3)\n",
    "with open('www.weather.go.kr.words_frequency.pickle','rb') as d3:\n",
    "    dict3=pickle.load(d3)\n",
    "with open('hrdi.koreatech.ac.kr.words_frequency.pickle','wb') as d4:\n",
    "    pickle.dump(dicfreq(h4),d4)\n",
    "with open('hrdi.koreatech.ac.kr.words_frequency.pickle','rb') as d4:\n",
    "    dict4=pickle.load(d4)\n",
    "with open('sports.news.naver.com.words_frequency.pickle','wb') as d5:\n",
    "    pickle.dump(dicfreq(h5),d5)\n",
    "with open('sports.news.naver.com.words_frequency.pickle','rb') as d5:\n",
    "    dict5=pickle.load(d5)\n",
    "\n",
    "def maxfreq(file_name):\n",
    "    key=[]\n",
    "    maxfreq_f=sorted(file_name.items(),key=lambda x:x[1], reverse=True)\n",
    "    max3=maxfreq_f[:3]\n",
    "    for i in max3:\n",
    "        key.append(i[0])\n",
    "    return key\n",
    "\n",
    "#print(maxfreq(dict5))"
   ]
  },
  {
   "cell_type": "markdown",
   "id": "5b281573",
   "metadata": {},
   "source": [
    "### 위의 과제와 같은 방식으로 사이트를 읽어와 내용을 저장한다. with as를 이용해 각각의 파일로 저장해준다. 위에서 단어의 출현빈도를 사전으로 저장하고 불용어 제거까지의 가정을 함수로 만들어준다. 이 사전들을 pickle 함수를 이용해 파일로 저장해준다. 최다출현 단어를 뽑는 maxfreq() 함수를 이용해 각 파일들을 적용해준다. 이 함수는 사전의 객체들을 빼와 value값을 내림차순으로 정렬해준다. 여기서 슬라이싱을 이용해 3개만 뽑아와 key 리스트에 저장하여 반환하는 함수이다. "
   ]
  },
  {
   "cell_type": "markdown",
   "id": "9fa1a878",
   "metadata": {},
   "source": [
    "#### 느낀점 : 각 사이트의 단어들을 찾아보는 작업이 나름대로 재미있었다. 각 사이트 별로 특징이 잘 나타나 있어서 무슨 단어들이 있는지 봐보는 것도 흥미로웠다. 막상 다 해보니 의외로 간단했지만 이해하는데 시간이 걸렸다. "
   ]
  }
 ],
 "metadata": {
  "kernelspec": {
   "display_name": "Python 3",
   "language": "python",
   "name": "python3"
  },
  "language_info": {
   "codemirror_mode": {
    "name": "ipython",
    "version": 3
   },
   "file_extension": ".py",
   "mimetype": "text/x-python",
   "name": "python",
   "nbconvert_exporter": "python",
   "pygments_lexer": "ipython3",
   "version": "3.8.8"
  }
 },
 "nbformat": 4,
 "nbformat_minor": 5
}

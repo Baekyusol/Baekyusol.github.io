{
 "cells": [
  {
   "cell_type": "code",
   "execution_count": 6,
   "id": "f7b85b4b",
   "metadata": {},
   "outputs": [],
   "source": [
    "import requests\n",
    "\n",
    "req=requests.get('https://www.naver.com/')\n",
    "\n",
    "source=req.text"
   ]
  },
  {
   "cell_type": "code",
   "execution_count": 55,
   "id": "8dd04895",
   "metadata": {},
   "outputs": [],
   "source": [
    "#print(source)"
   ]
  },
  {
   "cell_type": "code",
   "execution_count": 56,
   "id": "23f60052",
   "metadata": {},
   "outputs": [],
   "source": [
    "import re\n",
    "\n",
    "import requests\n",
    "\n",
    "req=requests.get('https://www.naver.com/')\n",
    "\n",
    "source=req.text\n",
    "html=source\n",
    "\n",
    "body=re.search('<body.*/body>',html,re.I|re.S)\n",
    "\n",
    "if(body is None):\n",
    "    print(\"No <body> in html\")\n",
    "    exit()\n",
    "    \n",
    "body=body.group()\n",
    "#print(body)"
   ]
  },
  {
   "cell_type": "markdown",
   "id": "7c7ce1dc",
   "metadata": {},
   "source": [
    "### 정규표현식을 사용해보았다. 그러기 위해 import re를 추가해준다. 그리고 url을 req에 저장해두고 그 파일은 source에 저장하고 html이라는 변수에 따로 저장해준다. 먼저 <body></body> 의 내용을 찾아준다."
   ]
  },
  {
   "cell_type": "code",
   "execution_count": 57,
   "id": "d6853abc",
   "metadata": {},
   "outputs": [],
   "source": [
    "body=re.sub('<script.*?.*?</script>','',body,0,re.I|re.S)\n",
    "#print(body)"
   ]
  },
  {
   "cell_type": "markdown",
   "id": "618db6d8",
   "metadata": {},
   "source": [
    "### 그리고 script문을 삭제해준다."
   ]
  },
  {
   "cell_type": "code",
   "execution_count": 58,
   "id": "1b57671f",
   "metadata": {},
   "outputs": [],
   "source": [
    "text=re.sub('<.+?>','',body,0,re.I|re.S)\n",
    "\n",
    "#print(text)"
   ]
  },
  {
   "cell_type": "markdown",
   "id": "bda1c853",
   "metadata": {},
   "source": [
    "### 그리고 <>사이에 있는 모든 것을 삭제해준다."
   ]
  },
  {
   "cell_type": "code",
   "execution_count": 59,
   "id": "4a96cfe6",
   "metadata": {},
   "outputs": [],
   "source": [
    "others=re.sub('{.+?}','',text,0,re.I|re.S)\n",
    "\n",
    "#print(others)"
   ]
  },
  {
   "cell_type": "markdown",
   "id": "20a159fb",
   "metadata": {},
   "source": [
    "### {}안에 있는 것도 삭제해준다. "
   ]
  },
  {
   "cell_type": "code",
   "execution_count": 60,
   "id": "1b6a1f06",
   "metadata": {},
   "outputs": [],
   "source": [
    "others2=re.sub('._1syGnXOL.*?.*?_:after','',others,0,re.I|re.S)\n",
    "#print(others2)"
   ]
  },
  {
   "cell_type": "markdown",
   "id": "7cbee76e",
   "metadata": {},
   "source": [
    "### 이것은 그 외의 것으로 따로 삭제해주었다."
   ]
  },
  {
   "cell_type": "code",
   "execution_count": 54,
   "id": "509302ae",
   "metadata": {},
   "outputs": [
    {
     "name": "stdout",
     "output_type": "stream",
     "text": [
      "3816\n"
     ]
    }
   ],
   "source": [
    "nospace = re.sub('|\\t|\\r|\\n', '', others2)\n",
    "\n",
    "result=nospace.split(' ')\n",
    "\n",
    "result = list(map(lambda x: x.strip(), result))\n",
    "result = list(filter(lambda x: x != '', result))\n",
    "numresult=len(result)\n",
    "print(numresult)"
   ]
  },
  {
   "cell_type": "markdown",
   "id": "b6040d6d",
   "metadata": {},
   "source": [
    "### 마지막으로 엔터나 탭 부분을 삭제해준다. 그리고 띄어쓰기를 기준으로 분리해주고 이를 리스트에 저장하고 빈칸이라면 삭제한다. 이 리스트의 길이를 저장해주고 이를 출력한다. "
   ]
  },
  {
   "cell_type": "markdown",
   "id": "a9c5766d",
   "metadata": {},
   "source": [
    "# 소감"
   ]
  },
  {
   "cell_type": "markdown",
   "id": "7edaa4dc",
   "metadata": {},
   "source": [
    "### 이전에 배워보지 않았던 거라서 새롭고 재미있었다. 실제로 코드가 어떻게 생겼는지 보면서 스크립트를 배운다는 것이 실감나기 시작했다. 기본 명령어들도 많이 배워가고 있어 성장하는 느낌이 든다. "
   ]
  }
 ],
 "metadata": {
  "kernelspec": {
   "display_name": "Python 3",
   "language": "python",
   "name": "python3"
  },
  "language_info": {
   "codemirror_mode": {
    "name": "ipython",
    "version": 3
   },
   "file_extension": ".py",
   "mimetype": "text/x-python",
   "name": "python",
   "nbconvert_exporter": "python",
   "pygments_lexer": "ipython3",
   "version": "3.8.8"
  }
 },
 "nbformat": 4,
 "nbformat_minor": 5
}
